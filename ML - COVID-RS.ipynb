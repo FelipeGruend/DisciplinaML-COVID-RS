{
 "cells": [
  {
   "cell_type": "markdown",
   "metadata": {
    "id": "HifbM0T-wrjd"
   },
   "source": [
    "# COVID-RS\n",
    "\n",
    "O objetivo desta tarefa é utilizar e avaliar técnicas de aprendizado de máquina em uma base de dados real. Esta base é originada da Secretaria Estadual de Saúde do RS e contém todos casos registrados de COVID-19 no estado, com informações diversas sobre cada caso, incluindo informações de hospitalização e óbito. \n",
    "\n",
    "A tarefa dos modelos desenvolvidos será tentar classificar se um indivíduo será ou não hospitalizado, com base nos dados da secretaria."
   ]
  },
  {
   "cell_type": "markdown",
   "metadata": {
    "id": "u8sNpaCiBBY3"
   },
   "source": [
    "## Carregamento dos dados"
   ]
  },
  {
   "cell_type": "code",
   "execution_count": 1,
   "metadata": {
    "colab": {
     "base_uri": "https://localhost:8080/",
     "height": 204
    },
    "id": "aWq_y-d-RZde",
    "outputId": "401046d9-3027-4353-fec6-fd3e95ae1f08"
   },
   "outputs": [
    {
     "name": "stdout",
     "output_type": "stream",
     "text": [
      "--2020-12-05 22:47:40--  https://ti.saude.rs.gov.br/covid19/download\n",
      "Resolving ti.saude.rs.gov.br (ti.saude.rs.gov.br)... 200.198.173.170\n",
      "Connecting to ti.saude.rs.gov.br (ti.saude.rs.gov.br)|200.198.173.170|:443... connected.\n",
      "HTTP request sent, awaiting response... 200 OK\n",
      "Length: unspecified [text/csv]\n",
      "Saving to: ‘download’\n",
      "\n",
      "download                [   <=>              ]  69,37M  2,03MB/s    in 63s     \n",
      "\n",
      "2020-12-05 22:48:44 (1,10 MB/s) - ‘download’ saved [72737860]\n",
      "\n"
     ]
    }
   ],
   "source": [
    "# Download dos dados da Secretaria de Saude e renomeação para algo mais usável \n",
    "# Os dados são atualizados diariamente\n",
    "\n",
    "!wget https://ti.saude.rs.gov.br/covid19/download\n",
    "!mv download dados_covid_rs.csv"
   ]
  },
  {
   "cell_type": "code",
   "execution_count": 2,
   "metadata": {
    "colab": {
     "base_uri": "https://localhost:8080/",
     "height": 309
    },
    "id": "p7BfJnOrRscw",
    "outputId": "1a9ac417-f052-41b8-b419-8b0f203cb905"
   },
   "outputs": [
    {
     "data": {
      "text/html": [
       "<div>\n",
       "<style scoped>\n",
       "    .dataframe tbody tr th:only-of-type {\n",
       "        vertical-align: middle;\n",
       "    }\n",
       "\n",
       "    .dataframe tbody tr th {\n",
       "        vertical-align: top;\n",
       "    }\n",
       "\n",
       "    .dataframe thead th {\n",
       "        text-align: right;\n",
       "    }\n",
       "</style>\n",
       "<table border=\"1\" class=\"dataframe\">\n",
       "  <thead>\n",
       "    <tr style=\"text-align: right;\">\n",
       "      <th></th>\n",
       "      <th>COD_IBGE</th>\n",
       "      <th>MUNICIPIO</th>\n",
       "      <th>COD_REGIAO_COVID</th>\n",
       "      <th>REGIAO_COVID</th>\n",
       "      <th>SEXO</th>\n",
       "      <th>FAIXAETARIA</th>\n",
       "      <th>CRITERIO</th>\n",
       "      <th>DATA_CONFIRMACAO</th>\n",
       "      <th>DATA_SINTOMAS</th>\n",
       "      <th>DATA_EVOLUCAO</th>\n",
       "      <th>...</th>\n",
       "      <th>DATA_INCLUSAO_OBITO</th>\n",
       "      <th>DATA_EVOLUCAO_ESTIMADA</th>\n",
       "      <th>RACA_COR</th>\n",
       "      <th>ETNIA_INDIGENA</th>\n",
       "      <th>PROFISSIONAL_SAUDE</th>\n",
       "      <th>BAIRRO</th>\n",
       "      <th>HOSPITALIZACAO_SRAG</th>\n",
       "      <th>FONTE_INFORMACAO</th>\n",
       "      <th>PAIS_NASCIMENTO</th>\n",
       "      <th>PES_PRIV_LIBERDADE</th>\n",
       "    </tr>\n",
       "  </thead>\n",
       "  <tbody>\n",
       "    <tr>\n",
       "      <th>0</th>\n",
       "      <td>430003</td>\n",
       "      <td>ACEGUÁ</td>\n",
       "      <td>16</td>\n",
       "      <td>BAGE - R22</td>\n",
       "      <td>Masculino</td>\n",
       "      <td>50 a 59</td>\n",
       "      <td>RT-PCR</td>\n",
       "      <td>05/11/2020</td>\n",
       "      <td>02/11/2020</td>\n",
       "      <td>NaN</td>\n",
       "      <td>...</td>\n",
       "      <td>NaN</td>\n",
       "      <td>16/11/2020</td>\n",
       "      <td>BRANCA</td>\n",
       "      <td>NAO ENCONTRADO</td>\n",
       "      <td>NAO</td>\n",
       "      <td>ZONA RURAL</td>\n",
       "      <td>NAO</td>\n",
       "      <td>E-SUS</td>\n",
       "      <td>BRASIL</td>\n",
       "      <td>NAO</td>\n",
       "    </tr>\n",
       "    <tr>\n",
       "      <th>1</th>\n",
       "      <td>430003</td>\n",
       "      <td>ACEGUÁ</td>\n",
       "      <td>16</td>\n",
       "      <td>BAGE - R22</td>\n",
       "      <td>Feminino</td>\n",
       "      <td>50 a 59</td>\n",
       "      <td>TESTE RÁPIDO</td>\n",
       "      <td>19/10/2020</td>\n",
       "      <td>05/10/2020</td>\n",
       "      <td>NaN</td>\n",
       "      <td>...</td>\n",
       "      <td>NaN</td>\n",
       "      <td>19/10/2020</td>\n",
       "      <td>BRANCA</td>\n",
       "      <td>NAO ENCONTRADO</td>\n",
       "      <td>NAO</td>\n",
       "      <td>ZONA RURAL</td>\n",
       "      <td>NAO</td>\n",
       "      <td>E-SUS</td>\n",
       "      <td>BRASIL</td>\n",
       "      <td>NAO</td>\n",
       "    </tr>\n",
       "    <tr>\n",
       "      <th>2</th>\n",
       "      <td>430003</td>\n",
       "      <td>ACEGUÁ</td>\n",
       "      <td>16</td>\n",
       "      <td>BAGE - R22</td>\n",
       "      <td>Masculino</td>\n",
       "      <td>20 a 29</td>\n",
       "      <td>RT-PCR</td>\n",
       "      <td>09/11/2020</td>\n",
       "      <td>06/11/2020</td>\n",
       "      <td>NaN</td>\n",
       "      <td>...</td>\n",
       "      <td>NaN</td>\n",
       "      <td>20/11/2020</td>\n",
       "      <td>BRANCA</td>\n",
       "      <td>NAO ENCONTRADO</td>\n",
       "      <td>NAO</td>\n",
       "      <td>ZONA RURAL</td>\n",
       "      <td>NAO</td>\n",
       "      <td>E-SUS</td>\n",
       "      <td>BRASIL</td>\n",
       "      <td>NAO</td>\n",
       "    </tr>\n",
       "    <tr>\n",
       "      <th>3</th>\n",
       "      <td>430003</td>\n",
       "      <td>ACEGUÁ</td>\n",
       "      <td>16</td>\n",
       "      <td>BAGE - R22</td>\n",
       "      <td>Feminino</td>\n",
       "      <td>50 a 59</td>\n",
       "      <td>RT-PCR</td>\n",
       "      <td>26/11/2020</td>\n",
       "      <td>18/11/2020</td>\n",
       "      <td>01/12/2020</td>\n",
       "      <td>...</td>\n",
       "      <td>NaN</td>\n",
       "      <td>NaN</td>\n",
       "      <td>BRANCA</td>\n",
       "      <td>NAO ENCONTRADO</td>\n",
       "      <td>NAO INFORMADO</td>\n",
       "      <td>ASSENTAMENTO</td>\n",
       "      <td>SIM</td>\n",
       "      <td>SIVEP HOSP</td>\n",
       "      <td>BRASIL</td>\n",
       "      <td>NAO</td>\n",
       "    </tr>\n",
       "    <tr>\n",
       "      <th>4</th>\n",
       "      <td>430003</td>\n",
       "      <td>ACEGUÁ</td>\n",
       "      <td>16</td>\n",
       "      <td>BAGE - R22</td>\n",
       "      <td>Masculino</td>\n",
       "      <td>50 a 59</td>\n",
       "      <td>Outros Testes</td>\n",
       "      <td>04/11/2020</td>\n",
       "      <td>04/11/2020</td>\n",
       "      <td>NaN</td>\n",
       "      <td>...</td>\n",
       "      <td>NaN</td>\n",
       "      <td>18/11/2020</td>\n",
       "      <td>BRANCA</td>\n",
       "      <td>NAO ENCONTRADO</td>\n",
       "      <td>NAO</td>\n",
       "      <td>ZONA RURAL</td>\n",
       "      <td>NAO</td>\n",
       "      <td>E-SUS</td>\n",
       "      <td>BRASIL</td>\n",
       "      <td>NAO</td>\n",
       "    </tr>\n",
       "  </tbody>\n",
       "</table>\n",
       "<p>5 rows × 29 columns</p>\n",
       "</div>"
      ],
      "text/plain": [
       "   COD_IBGE MUNICIPIO  COD_REGIAO_COVID REGIAO_COVID       SEXO FAIXAETARIA  \\\n",
       "0    430003    ACEGUÁ                16   BAGE - R22  Masculino     50 a 59   \n",
       "1    430003    ACEGUÁ                16   BAGE - R22   Feminino     50 a 59   \n",
       "2    430003    ACEGUÁ                16   BAGE - R22  Masculino     20 a 29   \n",
       "3    430003    ACEGUÁ                16   BAGE - R22   Feminino     50 a 59   \n",
       "4    430003    ACEGUÁ                16   BAGE - R22  Masculino     50 a 59   \n",
       "\n",
       "        CRITERIO DATA_CONFIRMACAO DATA_SINTOMAS DATA_EVOLUCAO  ...  \\\n",
       "0         RT-PCR       05/11/2020    02/11/2020           NaN  ...   \n",
       "1   TESTE RÁPIDO       19/10/2020    05/10/2020           NaN  ...   \n",
       "2         RT-PCR       09/11/2020    06/11/2020           NaN  ...   \n",
       "3         RT-PCR       26/11/2020    18/11/2020    01/12/2020  ...   \n",
       "4  Outros Testes       04/11/2020    04/11/2020           NaN  ...   \n",
       "\n",
       "  DATA_INCLUSAO_OBITO DATA_EVOLUCAO_ESTIMADA RACA_COR  ETNIA_INDIGENA  \\\n",
       "0                 NaN             16/11/2020   BRANCA  NAO ENCONTRADO   \n",
       "1                 NaN             19/10/2020   BRANCA  NAO ENCONTRADO   \n",
       "2                 NaN             20/11/2020   BRANCA  NAO ENCONTRADO   \n",
       "3                 NaN                    NaN   BRANCA  NAO ENCONTRADO   \n",
       "4                 NaN             18/11/2020   BRANCA  NAO ENCONTRADO   \n",
       "\n",
       "  PROFISSIONAL_SAUDE        BAIRRO HOSPITALIZACAO_SRAG FONTE_INFORMACAO  \\\n",
       "0                NAO    ZONA RURAL                 NAO            E-SUS   \n",
       "1                NAO    ZONA RURAL                 NAO            E-SUS   \n",
       "2                NAO    ZONA RURAL                 NAO            E-SUS   \n",
       "3      NAO INFORMADO  ASSENTAMENTO                 SIM       SIVEP HOSP   \n",
       "4                NAO    ZONA RURAL                 NAO            E-SUS   \n",
       "\n",
       "  PAIS_NASCIMENTO PES_PRIV_LIBERDADE  \n",
       "0          BRASIL                NAO  \n",
       "1          BRASIL                NAO  \n",
       "2          BRASIL                NAO  \n",
       "3          BRASIL                NAO  \n",
       "4          BRASIL                NAO  \n",
       "\n",
       "[5 rows x 29 columns]"
      ]
     },
     "execution_count": 2,
     "metadata": {},
     "output_type": "execute_result"
    }
   ],
   "source": [
    "# Carregamento dos dados em dataframe Pandas.\n",
    "# O separador de colunas no arquivo é ponto e vírgula.\n",
    "\n",
    "import pandas as pd\n",
    "df = pd.read_csv(\"dados_covid_rs.csv\", delimiter=';')\n",
    "df.head()"
   ]
  },
  {
   "cell_type": "code",
   "execution_count": 3,
   "metadata": {
    "colab": {
     "base_uri": "https://localhost:8080/",
     "height": 34
    },
    "id": "_G4xC9qdR13h",
    "outputId": "65946c0c-fe7e-4e5f-8c90-7afb47589f6a"
   },
   "outputs": [
    {
     "data": {
      "text/plain": [
       "(346801, 29)"
      ]
     },
     "execution_count": 3,
     "metadata": {},
     "output_type": "execute_result"
    }
   ],
   "source": [
    "# Qual o tamanho da tabela (linhas, colunas)?\n",
    "df.shape"
   ]
  },
  {
   "cell_type": "code",
   "execution_count": 4,
   "metadata": {},
   "outputs": [
    {
     "data": {
      "text/plain": [
       "COD_IBGE                   int64\n",
       "MUNICIPIO                 object\n",
       "COD_REGIAO_COVID           int64\n",
       "REGIAO_COVID              object\n",
       "SEXO                      object\n",
       "FAIXAETARIA               object\n",
       "CRITERIO                  object\n",
       "DATA_CONFIRMACAO          object\n",
       "DATA_SINTOMAS             object\n",
       "DATA_EVOLUCAO             object\n",
       "EVOLUCAO                  object\n",
       "HOSPITALIZADO             object\n",
       "FEBRE                     object\n",
       "TOSSE                     object\n",
       "GARGANTA                  object\n",
       "DISPNEIA                  object\n",
       "OUTROS                    object\n",
       "CONDICOES                 object\n",
       "GESTANTE                  object\n",
       "DATA_INCLUSAO_OBITO       object\n",
       "DATA_EVOLUCAO_ESTIMADA    object\n",
       "RACA_COR                  object\n",
       "ETNIA_INDIGENA            object\n",
       "PROFISSIONAL_SAUDE        object\n",
       "BAIRRO                    object\n",
       "HOSPITALIZACAO_SRAG       object\n",
       "FONTE_INFORMACAO          object\n",
       "PAIS_NASCIMENTO           object\n",
       "PES_PRIV_LIBERDADE        object\n",
       "dtype: object"
      ]
     },
     "execution_count": 4,
     "metadata": {},
     "output_type": "execute_result"
    }
   ],
   "source": [
    "# Quais são as colunas e tipos de dados?\n",
    "df.dtypes"
   ]
  },
  {
   "cell_type": "markdown",
   "metadata": {
    "id": "5iQIW1hFBJs-"
   },
   "source": [
    "## Pré-processamento\n",
    "\n",
    "A etapa de pré-processamento é necessária para adequar os tipos de dados, tratar dados faltantes, descartar dados que não serão utilizado e também criar novos atributos."
   ]
  },
  {
   "cell_type": "markdown",
   "metadata": {},
   "source": [
    "### Remoção de colunas desnecessárias"
   ]
  },
  {
   "cell_type": "markdown",
   "metadata": {},
   "source": [
    "Alguns dados presentes que se referem à localidades e/ou código dessas, potencialmente não são relevantes para predição sem a agregação de informações externas. Portanto, serão removidos, pois não serão utilizadas fontes de dados externas."
   ]
  },
  {
   "cell_type": "code",
   "execution_count": 5,
   "metadata": {},
   "outputs": [],
   "source": [
    "del df['COD_IBGE']\n",
    "del df['MUNICIPIO']\n",
    "del df['COD_REGIAO_COVID']\n",
    "del df['REGIAO_COVID']\n",
    "del df['BAIRRO']\n",
    "del df['PAIS_NASCIMENTO']"
   ]
  },
  {
   "cell_type": "markdown",
   "metadata": {},
   "source": [
    "Dados sobre evolução da doença e óbito provavelmente são dados que vazam informações sobre a hospitalização, então também serão desconsiderados."
   ]
  },
  {
   "cell_type": "code",
   "execution_count": 6,
   "metadata": {},
   "outputs": [],
   "source": [
    "del df['DATA_EVOLUCAO']\n",
    "del df['EVOLUCAO']\n",
    "del df['DATA_INCLUSAO_OBITO']\n",
    "del df['DATA_EVOLUCAO_ESTIMADA']\n",
    "del df['HOSPITALIZACAO_SRAG']"
   ]
  },
  {
   "cell_type": "markdown",
   "metadata": {},
   "source": [
    "Além disso, outros dados que provavelmente não tem relação com o agravamento da doença e hospitalização, serão descartados."
   ]
  },
  {
   "cell_type": "code",
   "execution_count": 7,
   "metadata": {},
   "outputs": [],
   "source": [
    "del df['PROFISSIONAL_SAUDE']\n",
    "del df['FONTE_INFORMACAO']\n",
    "del df['CRITERIO']"
   ]
  },
  {
   "cell_type": "markdown",
   "metadata": {},
   "source": [
    "Os campos de ETNIA_INDIGENA e CONDICOES, podem ter relação com a hospitalização. Contudo, é preciso saber se são dados tratáveis. Para isso, é possível verificar a quantidade de valores possíveis para cada atributo."
   ]
  },
  {
   "cell_type": "code",
   "execution_count": 8,
   "metadata": {},
   "outputs": [],
   "source": [
    "nao_nulo = pd.notnull(df['CONDICOES'])"
   ]
  },
  {
   "cell_type": "code",
   "execution_count": 9,
   "metadata": {},
   "outputs": [
    {
     "data": {
      "text/html": [
       "<div>\n",
       "<style scoped>\n",
       "    .dataframe tbody tr th:only-of-type {\n",
       "        vertical-align: middle;\n",
       "    }\n",
       "\n",
       "    .dataframe tbody tr th {\n",
       "        vertical-align: top;\n",
       "    }\n",
       "\n",
       "    .dataframe thead th {\n",
       "        text-align: right;\n",
       "    }\n",
       "</style>\n",
       "<table border=\"1\" class=\"dataframe\">\n",
       "  <thead>\n",
       "    <tr style=\"text-align: right;\">\n",
       "      <th></th>\n",
       "      <th>CONDICOES</th>\n",
       "    </tr>\n",
       "  </thead>\n",
       "  <tbody>\n",
       "    <tr>\n",
       "      <th>327322</th>\n",
       "      <td>Doença Cardiovascular Crônica</td>\n",
       "    </tr>\n",
       "    <tr>\n",
       "      <th>179134</th>\n",
       "      <td>Doença Cardiovascular Crônica</td>\n",
       "    </tr>\n",
       "    <tr>\n",
       "      <th>181610</th>\n",
       "      <td>Doença Cardiovascular Crônica, Doença Hepática...</td>\n",
       "    </tr>\n",
       "    <tr>\n",
       "      <th>251117</th>\n",
       "      <td>Doença Cardiovascular Crônica, Obesidade</td>\n",
       "    </tr>\n",
       "    <tr>\n",
       "      <th>5896</th>\n",
       "      <td>Doenças cardíacas crônicas</td>\n",
       "    </tr>\n",
       "    <tr>\n",
       "      <th>197481</th>\n",
       "      <td>Doenças cardíacas crônicas</td>\n",
       "    </tr>\n",
       "    <tr>\n",
       "      <th>323367</th>\n",
       "      <td>Outros</td>\n",
       "    </tr>\n",
       "    <tr>\n",
       "      <th>186145</th>\n",
       "      <td>Doença Cardiovascular Crônica, Doença Neurológ...</td>\n",
       "    </tr>\n",
       "    <tr>\n",
       "      <th>42574</th>\n",
       "      <td>Doença Cardiovascular Crônica, Outros</td>\n",
       "    </tr>\n",
       "    <tr>\n",
       "      <th>310052</th>\n",
       "      <td>Obesidade</td>\n",
       "    </tr>\n",
       "  </tbody>\n",
       "</table>\n",
       "</div>"
      ],
      "text/plain": [
       "                                                CONDICOES\n",
       "327322                      Doença Cardiovascular Crônica\n",
       "179134                      Doença Cardiovascular Crônica\n",
       "181610  Doença Cardiovascular Crônica, Doença Hepática...\n",
       "251117           Doença Cardiovascular Crônica, Obesidade\n",
       "5896                           Doenças cardíacas crônicas\n",
       "197481                         Doenças cardíacas crônicas\n",
       "323367                                             Outros\n",
       "186145  Doença Cardiovascular Crônica, Doença Neurológ...\n",
       "42574               Doença Cardiovascular Crônica, Outros\n",
       "310052                                          Obesidade"
      ]
     },
     "execution_count": 9,
     "metadata": {},
     "output_type": "execute_result"
    }
   ],
   "source": [
    "# Uma amostra aleatória dos valores para se ter noção do que tem nos dados\n",
    "# (amostra sem pegar valores nulos ou 'não encontrados')\n",
    "df[['CONDICOES']][nao_nulo].sample(10, random_state=666)"
   ]
  },
  {
   "cell_type": "code",
   "execution_count": 10,
   "metadata": {},
   "outputs": [
    {
     "data": {
      "text/plain": [
       "762"
      ]
     },
     "execution_count": 10,
     "metadata": {},
     "output_type": "execute_result"
    }
   ],
   "source": [
    "len(df['CONDICOES'].unique())"
   ]
  },
  {
   "cell_type": "code",
   "execution_count": 11,
   "metadata": {},
   "outputs": [],
   "source": [
    "nao_nulo = pd.notnull(df['ETNIA_INDIGENA'])"
   ]
  },
  {
   "cell_type": "code",
   "execution_count": 12,
   "metadata": {},
   "outputs": [
    {
     "data": {
      "text/html": [
       "<div>\n",
       "<style scoped>\n",
       "    .dataframe tbody tr th:only-of-type {\n",
       "        vertical-align: middle;\n",
       "    }\n",
       "\n",
       "    .dataframe tbody tr th {\n",
       "        vertical-align: top;\n",
       "    }\n",
       "\n",
       "    .dataframe thead th {\n",
       "        text-align: right;\n",
       "    }\n",
       "</style>\n",
       "<table border=\"1\" class=\"dataframe\">\n",
       "  <thead>\n",
       "    <tr style=\"text-align: right;\">\n",
       "      <th></th>\n",
       "      <th>ETNIA_INDIGENA</th>\n",
       "    </tr>\n",
       "  </thead>\n",
       "  <tbody>\n",
       "    <tr>\n",
       "      <th>78137</th>\n",
       "      <td>KAINGANG (CAINGANGUE)</td>\n",
       "    </tr>\n",
       "    <tr>\n",
       "      <th>323237</th>\n",
       "      <td>KAINGANG (CAINGANGUE)</td>\n",
       "    </tr>\n",
       "    <tr>\n",
       "      <th>109272</th>\n",
       "      <td>KAINGANG (CAINGANGUE)</td>\n",
       "    </tr>\n",
       "    <tr>\n",
       "      <th>88261</th>\n",
       "      <td>KAINGANG (CAINGANGUE)</td>\n",
       "    </tr>\n",
       "    <tr>\n",
       "      <th>133333</th>\n",
       "      <td>KAINGANG (CAINGANGUE)</td>\n",
       "    </tr>\n",
       "    <tr>\n",
       "      <th>148592</th>\n",
       "      <td>KAINGANG (CAINGANGUE)</td>\n",
       "    </tr>\n",
       "    <tr>\n",
       "      <th>252923</th>\n",
       "      <td>KAINGANG (CAINGANGUE)</td>\n",
       "    </tr>\n",
       "    <tr>\n",
       "      <th>306199</th>\n",
       "      <td>KAINGANG (CAINGANGUE)</td>\n",
       "    </tr>\n",
       "    <tr>\n",
       "      <th>43</th>\n",
       "      <td>KAINGANG (CAINGANGUE)</td>\n",
       "    </tr>\n",
       "    <tr>\n",
       "      <th>142914</th>\n",
       "      <td>KAINGANG (CAINGANGUE)</td>\n",
       "    </tr>\n",
       "  </tbody>\n",
       "</table>\n",
       "</div>"
      ],
      "text/plain": [
       "               ETNIA_INDIGENA\n",
       "78137   KAINGANG (CAINGANGUE)\n",
       "323237  KAINGANG (CAINGANGUE)\n",
       "109272  KAINGANG (CAINGANGUE)\n",
       "88261   KAINGANG (CAINGANGUE)\n",
       "133333  KAINGANG (CAINGANGUE)\n",
       "148592  KAINGANG (CAINGANGUE)\n",
       "252923  KAINGANG (CAINGANGUE)\n",
       "306199  KAINGANG (CAINGANGUE)\n",
       "43      KAINGANG (CAINGANGUE)\n",
       "142914  KAINGANG (CAINGANGUE)"
      ]
     },
     "execution_count": 12,
     "metadata": {},
     "output_type": "execute_result"
    }
   ],
   "source": [
    "# Uma amostra aleatória dos valores para se ter noção do que tem nos dados\n",
    "# (amostra sem pegar valores nulos ou 'não encontrados')\n",
    "df[['ETNIA_INDIGENA']][nao_nulo & (df['ETNIA_INDIGENA'] != 'NAO ENCONTRADO')].sample(10, random_state=666)"
   ]
  },
  {
   "cell_type": "code",
   "execution_count": 13,
   "metadata": {},
   "outputs": [
    {
     "data": {
      "text/plain": [
       "21"
      ]
     },
     "execution_count": 13,
     "metadata": {},
     "output_type": "execute_result"
    }
   ],
   "source": [
    "len(df['ETNIA_INDIGENA'].unique())"
   ]
  },
  {
   "cell_type": "markdown",
   "metadata": {},
   "source": [
    "Ambos atributos tem muitos valores possíveis, o que geraria muitas colunas com one hot enconding. Além disso, as `CONDICOES` estão em formato de lista, e provavelmente precisariam de uma aplicação de técnicas de Processamento de Linguagem Natural (PLN) para definição de classes. Por isso, essas colunas também serão deletadas, para diminuição da complexidade dos dados."
   ]
  },
  {
   "cell_type": "code",
   "execution_count": 14,
   "metadata": {},
   "outputs": [],
   "source": [
    "del df['ETNIA_INDIGENA']\n",
    "del df['CONDICOES']"
   ]
  },
  {
   "cell_type": "markdown",
   "metadata": {},
   "source": [
    "### Formatação das datas"
   ]
  },
  {
   "cell_type": "markdown",
   "metadata": {},
   "source": [
    "As datas são reconhecidas com formato de _string_ ou _object_ , como mostrado na seção de carregamento dos dados. Assim, se torna necessária a formatação para o tipo data (pandas.DateTime)."
   ]
  },
  {
   "cell_type": "code",
   "execution_count": 15,
   "metadata": {
    "colab": {
     "base_uri": "https://localhost:8080/",
     "height": 309
    },
    "id": "9tOI5KzH7eLF",
    "outputId": "914a7501-a6ef-4fd0-f8eb-0fbe9564b8ac"
   },
   "outputs": [
    {
     "data": {
      "text/html": [
       "<div>\n",
       "<style scoped>\n",
       "    .dataframe tbody tr th:only-of-type {\n",
       "        vertical-align: middle;\n",
       "    }\n",
       "\n",
       "    .dataframe tbody tr th {\n",
       "        vertical-align: top;\n",
       "    }\n",
       "\n",
       "    .dataframe thead th {\n",
       "        text-align: right;\n",
       "    }\n",
       "</style>\n",
       "<table border=\"1\" class=\"dataframe\">\n",
       "  <thead>\n",
       "    <tr style=\"text-align: right;\">\n",
       "      <th></th>\n",
       "      <th>SEXO</th>\n",
       "      <th>FAIXAETARIA</th>\n",
       "      <th>DATA_CONFIRMACAO</th>\n",
       "      <th>DATA_SINTOMAS</th>\n",
       "      <th>HOSPITALIZADO</th>\n",
       "      <th>FEBRE</th>\n",
       "      <th>TOSSE</th>\n",
       "      <th>GARGANTA</th>\n",
       "      <th>DISPNEIA</th>\n",
       "      <th>OUTROS</th>\n",
       "      <th>GESTANTE</th>\n",
       "      <th>RACA_COR</th>\n",
       "      <th>PES_PRIV_LIBERDADE</th>\n",
       "    </tr>\n",
       "  </thead>\n",
       "  <tbody>\n",
       "    <tr>\n",
       "      <th>0</th>\n",
       "      <td>Masculino</td>\n",
       "      <td>50 a 59</td>\n",
       "      <td>2020-11-05</td>\n",
       "      <td>2020-11-02</td>\n",
       "      <td>NAO</td>\n",
       "      <td>NAO</td>\n",
       "      <td>SIM</td>\n",
       "      <td>NAO</td>\n",
       "      <td>NAO</td>\n",
       "      <td>NAO</td>\n",
       "      <td>NAO</td>\n",
       "      <td>BRANCA</td>\n",
       "      <td>NAO</td>\n",
       "    </tr>\n",
       "    <tr>\n",
       "      <th>1</th>\n",
       "      <td>Feminino</td>\n",
       "      <td>50 a 59</td>\n",
       "      <td>2020-10-19</td>\n",
       "      <td>2020-10-05</td>\n",
       "      <td>NAO</td>\n",
       "      <td>NAO</td>\n",
       "      <td>NAO</td>\n",
       "      <td>NAO</td>\n",
       "      <td>NAO</td>\n",
       "      <td>NAO</td>\n",
       "      <td>NAO</td>\n",
       "      <td>BRANCA</td>\n",
       "      <td>NAO</td>\n",
       "    </tr>\n",
       "    <tr>\n",
       "      <th>2</th>\n",
       "      <td>Masculino</td>\n",
       "      <td>20 a 29</td>\n",
       "      <td>2020-11-09</td>\n",
       "      <td>2020-11-06</td>\n",
       "      <td>NAO</td>\n",
       "      <td>NAO</td>\n",
       "      <td>SIM</td>\n",
       "      <td>NAO</td>\n",
       "      <td>NAO</td>\n",
       "      <td>NAO</td>\n",
       "      <td>NAO</td>\n",
       "      <td>BRANCA</td>\n",
       "      <td>NAO</td>\n",
       "    </tr>\n",
       "    <tr>\n",
       "      <th>3</th>\n",
       "      <td>Feminino</td>\n",
       "      <td>50 a 59</td>\n",
       "      <td>2020-11-26</td>\n",
       "      <td>2020-11-18</td>\n",
       "      <td>SIM</td>\n",
       "      <td>SIM</td>\n",
       "      <td>NAO</td>\n",
       "      <td>NAO</td>\n",
       "      <td>SIM</td>\n",
       "      <td>NAO</td>\n",
       "      <td>NAO</td>\n",
       "      <td>BRANCA</td>\n",
       "      <td>NAO</td>\n",
       "    </tr>\n",
       "    <tr>\n",
       "      <th>4</th>\n",
       "      <td>Masculino</td>\n",
       "      <td>50 a 59</td>\n",
       "      <td>2020-11-04</td>\n",
       "      <td>2020-11-04</td>\n",
       "      <td>NAO</td>\n",
       "      <td>NAO</td>\n",
       "      <td>NAO</td>\n",
       "      <td>NAO</td>\n",
       "      <td>NAO</td>\n",
       "      <td>NAO</td>\n",
       "      <td>NAO</td>\n",
       "      <td>BRANCA</td>\n",
       "      <td>NAO</td>\n",
       "    </tr>\n",
       "    <tr>\n",
       "      <th>...</th>\n",
       "      <td>...</td>\n",
       "      <td>...</td>\n",
       "      <td>...</td>\n",
       "      <td>...</td>\n",
       "      <td>...</td>\n",
       "      <td>...</td>\n",
       "      <td>...</td>\n",
       "      <td>...</td>\n",
       "      <td>...</td>\n",
       "      <td>...</td>\n",
       "      <td>...</td>\n",
       "      <td>...</td>\n",
       "      <td>...</td>\n",
       "    </tr>\n",
       "    <tr>\n",
       "      <th>346796</th>\n",
       "      <td>Masculino</td>\n",
       "      <td>30 a 39</td>\n",
       "      <td>2020-11-21</td>\n",
       "      <td>2020-11-21</td>\n",
       "      <td>NAO</td>\n",
       "      <td>NAO</td>\n",
       "      <td>NAO</td>\n",
       "      <td>NAO</td>\n",
       "      <td>NAO</td>\n",
       "      <td>SIM</td>\n",
       "      <td>NAO</td>\n",
       "      <td>NAO INFORMADO</td>\n",
       "      <td>NAO</td>\n",
       "    </tr>\n",
       "    <tr>\n",
       "      <th>346797</th>\n",
       "      <td>Feminino</td>\n",
       "      <td>40 a 49</td>\n",
       "      <td>2020-11-20</td>\n",
       "      <td>2020-11-15</td>\n",
       "      <td>NAO</td>\n",
       "      <td>NAO</td>\n",
       "      <td>SIM</td>\n",
       "      <td>NAO</td>\n",
       "      <td>NAO</td>\n",
       "      <td>NAO</td>\n",
       "      <td>NAO</td>\n",
       "      <td>BRANCA</td>\n",
       "      <td>NAO</td>\n",
       "    </tr>\n",
       "    <tr>\n",
       "      <th>346798</th>\n",
       "      <td>Feminino</td>\n",
       "      <td>50 a 59</td>\n",
       "      <td>2020-11-16</td>\n",
       "      <td>2020-11-05</td>\n",
       "      <td>NAO</td>\n",
       "      <td>NAO</td>\n",
       "      <td>NAO</td>\n",
       "      <td>SIM</td>\n",
       "      <td>NAO</td>\n",
       "      <td>NAO</td>\n",
       "      <td>NAO</td>\n",
       "      <td>NAO INFORMADO</td>\n",
       "      <td>NAO</td>\n",
       "    </tr>\n",
       "    <tr>\n",
       "      <th>346799</th>\n",
       "      <td>Feminino</td>\n",
       "      <td>50 a 59</td>\n",
       "      <td>2020-10-29</td>\n",
       "      <td>2020-10-25</td>\n",
       "      <td>NAO</td>\n",
       "      <td>NAO</td>\n",
       "      <td>NAO</td>\n",
       "      <td>NAO</td>\n",
       "      <td>SIM</td>\n",
       "      <td>NAO</td>\n",
       "      <td>NAO</td>\n",
       "      <td>BRANCA</td>\n",
       "      <td>NAO</td>\n",
       "    </tr>\n",
       "    <tr>\n",
       "      <th>346800</th>\n",
       "      <td>Masculino</td>\n",
       "      <td>20 a 29</td>\n",
       "      <td>2020-09-01</td>\n",
       "      <td>2020-08-16</td>\n",
       "      <td>NAO</td>\n",
       "      <td>SIM</td>\n",
       "      <td>SIM</td>\n",
       "      <td>SIM</td>\n",
       "      <td>SIM</td>\n",
       "      <td>NAO</td>\n",
       "      <td>NAO</td>\n",
       "      <td>BRANCA</td>\n",
       "      <td>NAO</td>\n",
       "    </tr>\n",
       "  </tbody>\n",
       "</table>\n",
       "<p>346801 rows × 13 columns</p>\n",
       "</div>"
      ],
      "text/plain": [
       "             SEXO FAIXAETARIA DATA_CONFIRMACAO DATA_SINTOMAS HOSPITALIZADO  \\\n",
       "0       Masculino     50 a 59       2020-11-05    2020-11-02           NAO   \n",
       "1        Feminino     50 a 59       2020-10-19    2020-10-05           NAO   \n",
       "2       Masculino     20 a 29       2020-11-09    2020-11-06           NAO   \n",
       "3        Feminino     50 a 59       2020-11-26    2020-11-18           SIM   \n",
       "4       Masculino     50 a 59       2020-11-04    2020-11-04           NAO   \n",
       "...           ...         ...              ...           ...           ...   \n",
       "346796  Masculino     30 a 39       2020-11-21    2020-11-21           NAO   \n",
       "346797   Feminino     40 a 49       2020-11-20    2020-11-15           NAO   \n",
       "346798   Feminino     50 a 59       2020-11-16    2020-11-05           NAO   \n",
       "346799   Feminino     50 a 59       2020-10-29    2020-10-25           NAO   \n",
       "346800  Masculino     20 a 29       2020-09-01    2020-08-16           NAO   \n",
       "\n",
       "       FEBRE TOSSE GARGANTA DISPNEIA OUTROS GESTANTE       RACA_COR  \\\n",
       "0        NAO   SIM      NAO      NAO    NAO      NAO         BRANCA   \n",
       "1        NAO   NAO      NAO      NAO    NAO      NAO         BRANCA   \n",
       "2        NAO   SIM      NAO      NAO    NAO      NAO         BRANCA   \n",
       "3        SIM   NAO      NAO      SIM    NAO      NAO         BRANCA   \n",
       "4        NAO   NAO      NAO      NAO    NAO      NAO         BRANCA   \n",
       "...      ...   ...      ...      ...    ...      ...            ...   \n",
       "346796   NAO   NAO      NAO      NAO    SIM      NAO  NAO INFORMADO   \n",
       "346797   NAO   SIM      NAO      NAO    NAO      NAO         BRANCA   \n",
       "346798   NAO   NAO      SIM      NAO    NAO      NAO  NAO INFORMADO   \n",
       "346799   NAO   NAO      NAO      SIM    NAO      NAO         BRANCA   \n",
       "346800   SIM   SIM      SIM      SIM    NAO      NAO         BRANCA   \n",
       "\n",
       "       PES_PRIV_LIBERDADE  \n",
       "0                     NAO  \n",
       "1                     NAO  \n",
       "2                     NAO  \n",
       "3                     NAO  \n",
       "4                     NAO  \n",
       "...                   ...  \n",
       "346796                NAO  \n",
       "346797                NAO  \n",
       "346798                NAO  \n",
       "346799                NAO  \n",
       "346800                NAO  \n",
       "\n",
       "[346801 rows x 13 columns]"
      ]
     },
     "execution_count": 15,
     "metadata": {},
     "output_type": "execute_result"
    }
   ],
   "source": [
    "df[\"DATA_CONFIRMACAO\"] = pd.to_datetime(df[\"DATA_CONFIRMACAO\"], format=\"%d/%m/%Y\")\n",
    "df[\"DATA_SINTOMAS\"] = pd.to_datetime(df[\"DATA_SINTOMAS\"], format=\"%d/%m/%Y\")\n",
    "\n",
    "df"
   ]
  },
  {
   "cell_type": "markdown",
   "metadata": {},
   "source": [
    "### Remoção de confirmações recentes"
   ]
  },
  {
   "cell_type": "markdown",
   "metadata": {},
   "source": [
    "Seleção de datas de confirmação com um intervalo de 15 dias, pois confirmações recentes podem não ser um bom indicativo para prever hospitalização."
   ]
  },
  {
   "cell_type": "code",
   "execution_count": 16,
   "metadata": {},
   "outputs": [
    {
     "data": {
      "text/html": [
       "<div>\n",
       "<style scoped>\n",
       "    .dataframe tbody tr th:only-of-type {\n",
       "        vertical-align: middle;\n",
       "    }\n",
       "\n",
       "    .dataframe tbody tr th {\n",
       "        vertical-align: top;\n",
       "    }\n",
       "\n",
       "    .dataframe thead th {\n",
       "        text-align: right;\n",
       "    }\n",
       "</style>\n",
       "<table border=\"1\" class=\"dataframe\">\n",
       "  <thead>\n",
       "    <tr style=\"text-align: right;\">\n",
       "      <th></th>\n",
       "      <th>SEXO</th>\n",
       "      <th>FAIXAETARIA</th>\n",
       "      <th>DATA_CONFIRMACAO</th>\n",
       "      <th>DATA_SINTOMAS</th>\n",
       "      <th>HOSPITALIZADO</th>\n",
       "      <th>FEBRE</th>\n",
       "      <th>TOSSE</th>\n",
       "      <th>GARGANTA</th>\n",
       "      <th>DISPNEIA</th>\n",
       "      <th>OUTROS</th>\n",
       "      <th>GESTANTE</th>\n",
       "      <th>RACA_COR</th>\n",
       "      <th>PES_PRIV_LIBERDADE</th>\n",
       "    </tr>\n",
       "  </thead>\n",
       "  <tbody>\n",
       "    <tr>\n",
       "      <th>0</th>\n",
       "      <td>Masculino</td>\n",
       "      <td>50 a 59</td>\n",
       "      <td>2020-11-05</td>\n",
       "      <td>2020-11-02</td>\n",
       "      <td>NAO</td>\n",
       "      <td>NAO</td>\n",
       "      <td>SIM</td>\n",
       "      <td>NAO</td>\n",
       "      <td>NAO</td>\n",
       "      <td>NAO</td>\n",
       "      <td>NAO</td>\n",
       "      <td>BRANCA</td>\n",
       "      <td>NAO</td>\n",
       "    </tr>\n",
       "    <tr>\n",
       "      <th>1</th>\n",
       "      <td>Feminino</td>\n",
       "      <td>50 a 59</td>\n",
       "      <td>2020-10-19</td>\n",
       "      <td>2020-10-05</td>\n",
       "      <td>NAO</td>\n",
       "      <td>NAO</td>\n",
       "      <td>NAO</td>\n",
       "      <td>NAO</td>\n",
       "      <td>NAO</td>\n",
       "      <td>NAO</td>\n",
       "      <td>NAO</td>\n",
       "      <td>BRANCA</td>\n",
       "      <td>NAO</td>\n",
       "    </tr>\n",
       "    <tr>\n",
       "      <th>2</th>\n",
       "      <td>Masculino</td>\n",
       "      <td>20 a 29</td>\n",
       "      <td>2020-11-09</td>\n",
       "      <td>2020-11-06</td>\n",
       "      <td>NAO</td>\n",
       "      <td>NAO</td>\n",
       "      <td>SIM</td>\n",
       "      <td>NAO</td>\n",
       "      <td>NAO</td>\n",
       "      <td>NAO</td>\n",
       "      <td>NAO</td>\n",
       "      <td>BRANCA</td>\n",
       "      <td>NAO</td>\n",
       "    </tr>\n",
       "    <tr>\n",
       "      <th>4</th>\n",
       "      <td>Masculino</td>\n",
       "      <td>50 a 59</td>\n",
       "      <td>2020-11-04</td>\n",
       "      <td>2020-11-04</td>\n",
       "      <td>NAO</td>\n",
       "      <td>NAO</td>\n",
       "      <td>NAO</td>\n",
       "      <td>NAO</td>\n",
       "      <td>NAO</td>\n",
       "      <td>NAO</td>\n",
       "      <td>NAO</td>\n",
       "      <td>BRANCA</td>\n",
       "      <td>NAO</td>\n",
       "    </tr>\n",
       "    <tr>\n",
       "      <th>5</th>\n",
       "      <td>Feminino</td>\n",
       "      <td>15 a 19</td>\n",
       "      <td>2020-11-06</td>\n",
       "      <td>2020-11-06</td>\n",
       "      <td>NAO</td>\n",
       "      <td>NAO</td>\n",
       "      <td>NAO</td>\n",
       "      <td>NAO</td>\n",
       "      <td>NAO</td>\n",
       "      <td>NAO</td>\n",
       "      <td>NAO</td>\n",
       "      <td>BRANCA</td>\n",
       "      <td>NAO</td>\n",
       "    </tr>\n",
       "    <tr>\n",
       "      <th>...</th>\n",
       "      <td>...</td>\n",
       "      <td>...</td>\n",
       "      <td>...</td>\n",
       "      <td>...</td>\n",
       "      <td>...</td>\n",
       "      <td>...</td>\n",
       "      <td>...</td>\n",
       "      <td>...</td>\n",
       "      <td>...</td>\n",
       "      <td>...</td>\n",
       "      <td>...</td>\n",
       "      <td>...</td>\n",
       "      <td>...</td>\n",
       "    </tr>\n",
       "    <tr>\n",
       "      <th>346793</th>\n",
       "      <td>Masculino</td>\n",
       "      <td>30 a 39</td>\n",
       "      <td>2020-11-15</td>\n",
       "      <td>2020-11-15</td>\n",
       "      <td>NAO</td>\n",
       "      <td>NAO</td>\n",
       "      <td>NAO</td>\n",
       "      <td>NAO</td>\n",
       "      <td>NAO</td>\n",
       "      <td>SIM</td>\n",
       "      <td>NAO</td>\n",
       "      <td>NAO INFORMADO</td>\n",
       "      <td>NAO</td>\n",
       "    </tr>\n",
       "    <tr>\n",
       "      <th>346794</th>\n",
       "      <td>Feminino</td>\n",
       "      <td>80 e mais</td>\n",
       "      <td>2020-11-15</td>\n",
       "      <td>2020-11-08</td>\n",
       "      <td>NAO</td>\n",
       "      <td>NAO</td>\n",
       "      <td>SIM</td>\n",
       "      <td>SIM</td>\n",
       "      <td>SIM</td>\n",
       "      <td>NAO</td>\n",
       "      <td>NAO</td>\n",
       "      <td>NAO INFORMADO</td>\n",
       "      <td>NAO</td>\n",
       "    </tr>\n",
       "    <tr>\n",
       "      <th>346795</th>\n",
       "      <td>Feminino</td>\n",
       "      <td>40 a 49</td>\n",
       "      <td>2020-10-28</td>\n",
       "      <td>2020-10-22</td>\n",
       "      <td>SIM</td>\n",
       "      <td>SIM</td>\n",
       "      <td>SIM</td>\n",
       "      <td>NAO</td>\n",
       "      <td>SIM</td>\n",
       "      <td>NAO</td>\n",
       "      <td>NAO</td>\n",
       "      <td>BRANCA</td>\n",
       "      <td>NAO</td>\n",
       "    </tr>\n",
       "    <tr>\n",
       "      <th>346799</th>\n",
       "      <td>Feminino</td>\n",
       "      <td>50 a 59</td>\n",
       "      <td>2020-10-29</td>\n",
       "      <td>2020-10-25</td>\n",
       "      <td>NAO</td>\n",
       "      <td>NAO</td>\n",
       "      <td>NAO</td>\n",
       "      <td>NAO</td>\n",
       "      <td>SIM</td>\n",
       "      <td>NAO</td>\n",
       "      <td>NAO</td>\n",
       "      <td>BRANCA</td>\n",
       "      <td>NAO</td>\n",
       "    </tr>\n",
       "    <tr>\n",
       "      <th>346800</th>\n",
       "      <td>Masculino</td>\n",
       "      <td>20 a 29</td>\n",
       "      <td>2020-09-01</td>\n",
       "      <td>2020-08-16</td>\n",
       "      <td>NAO</td>\n",
       "      <td>SIM</td>\n",
       "      <td>SIM</td>\n",
       "      <td>SIM</td>\n",
       "      <td>SIM</td>\n",
       "      <td>NAO</td>\n",
       "      <td>NAO</td>\n",
       "      <td>BRANCA</td>\n",
       "      <td>NAO</td>\n",
       "    </tr>\n",
       "  </tbody>\n",
       "</table>\n",
       "<p>295645 rows × 13 columns</p>\n",
       "</div>"
      ],
      "text/plain": [
       "             SEXO FAIXAETARIA DATA_CONFIRMACAO DATA_SINTOMAS HOSPITALIZADO  \\\n",
       "0       Masculino     50 a 59       2020-11-05    2020-11-02           NAO   \n",
       "1        Feminino     50 a 59       2020-10-19    2020-10-05           NAO   \n",
       "2       Masculino     20 a 29       2020-11-09    2020-11-06           NAO   \n",
       "4       Masculino     50 a 59       2020-11-04    2020-11-04           NAO   \n",
       "5        Feminino     15 a 19       2020-11-06    2020-11-06           NAO   \n",
       "...           ...         ...              ...           ...           ...   \n",
       "346793  Masculino     30 a 39       2020-11-15    2020-11-15           NAO   \n",
       "346794   Feminino   80 e mais       2020-11-15    2020-11-08           NAO   \n",
       "346795   Feminino     40 a 49       2020-10-28    2020-10-22           SIM   \n",
       "346799   Feminino     50 a 59       2020-10-29    2020-10-25           NAO   \n",
       "346800  Masculino     20 a 29       2020-09-01    2020-08-16           NAO   \n",
       "\n",
       "       FEBRE TOSSE GARGANTA DISPNEIA OUTROS GESTANTE       RACA_COR  \\\n",
       "0        NAO   SIM      NAO      NAO    NAO      NAO         BRANCA   \n",
       "1        NAO   NAO      NAO      NAO    NAO      NAO         BRANCA   \n",
       "2        NAO   SIM      NAO      NAO    NAO      NAO         BRANCA   \n",
       "4        NAO   NAO      NAO      NAO    NAO      NAO         BRANCA   \n",
       "5        NAO   NAO      NAO      NAO    NAO      NAO         BRANCA   \n",
       "...      ...   ...      ...      ...    ...      ...            ...   \n",
       "346793   NAO   NAO      NAO      NAO    SIM      NAO  NAO INFORMADO   \n",
       "346794   NAO   SIM      SIM      SIM    NAO      NAO  NAO INFORMADO   \n",
       "346795   SIM   SIM      NAO      SIM    NAO      NAO         BRANCA   \n",
       "346799   NAO   NAO      NAO      SIM    NAO      NAO         BRANCA   \n",
       "346800   SIM   SIM      SIM      SIM    NAO      NAO         BRANCA   \n",
       "\n",
       "       PES_PRIV_LIBERDADE  \n",
       "0                     NAO  \n",
       "1                     NAO  \n",
       "2                     NAO  \n",
       "4                     NAO  \n",
       "5                     NAO  \n",
       "...                   ...  \n",
       "346793                NAO  \n",
       "346794                NAO  \n",
       "346795                NAO  \n",
       "346799                NAO  \n",
       "346800                NAO  \n",
       "\n",
       "[295645 rows x 13 columns]"
      ]
     },
     "execution_count": 16,
     "metadata": {},
     "output_type": "execute_result"
    }
   ],
   "source": [
    "df = df.drop(df[df['DATA_CONFIRMACAO'] > '2020-11-15'].index)\n",
    "df"
   ]
  },
  {
   "cell_type": "markdown",
   "metadata": {},
   "source": [
    "A quantidade de valores faltantes em cada coluna, podem influenciar como serão preenchidos."
   ]
  },
  {
   "cell_type": "markdown",
   "metadata": {},
   "source": [
    "### Valores Faltantes"
   ]
  },
  {
   "cell_type": "markdown",
   "metadata": {},
   "source": [
    "Algumas colunas possuem vários \"NaN\" (Not a Number) ou \"NaT\" (Not a Time), indicando que são\n",
    "valores faltantes.\n",
    "\n",
    "Há diversas maneiras de lidar com buracos nos dados, vamos primeiro quantificar o problema contando o\n",
    "número de valores faltantes por coluna."
   ]
  },
  {
   "cell_type": "code",
   "execution_count": 17,
   "metadata": {},
   "outputs": [
    {
     "data": {
      "text/html": [
       "<div>\n",
       "<style scoped>\n",
       "    .dataframe tbody tr th:only-of-type {\n",
       "        vertical-align: middle;\n",
       "    }\n",
       "\n",
       "    .dataframe tbody tr th {\n",
       "        vertical-align: top;\n",
       "    }\n",
       "\n",
       "    .dataframe thead th {\n",
       "        text-align: right;\n",
       "    }\n",
       "</style>\n",
       "<table border=\"1\" class=\"dataframe\">\n",
       "  <thead>\n",
       "    <tr style=\"text-align: right;\">\n",
       "      <th></th>\n",
       "      <th>coluna</th>\n",
       "      <th>nans</th>\n",
       "      <th>frac_nans</th>\n",
       "    </tr>\n",
       "  </thead>\n",
       "  <tbody>\n",
       "    <tr>\n",
       "      <th>8</th>\n",
       "      <td>DISPNEIA</td>\n",
       "      <td>3629</td>\n",
       "      <td>0.012275</td>\n",
       "    </tr>\n",
       "    <tr>\n",
       "      <th>5</th>\n",
       "      <td>FEBRE</td>\n",
       "      <td>20</td>\n",
       "      <td>0.000068</td>\n",
       "    </tr>\n",
       "    <tr>\n",
       "      <th>6</th>\n",
       "      <td>TOSSE</td>\n",
       "      <td>20</td>\n",
       "      <td>0.000068</td>\n",
       "    </tr>\n",
       "    <tr>\n",
       "      <th>7</th>\n",
       "      <td>GARGANTA</td>\n",
       "      <td>20</td>\n",
       "      <td>0.000068</td>\n",
       "    </tr>\n",
       "    <tr>\n",
       "      <th>9</th>\n",
       "      <td>OUTROS</td>\n",
       "      <td>20</td>\n",
       "      <td>0.000068</td>\n",
       "    </tr>\n",
       "  </tbody>\n",
       "</table>\n",
       "</div>"
      ],
      "text/plain": [
       "     coluna  nans  frac_nans\n",
       "8  DISPNEIA  3629   0.012275\n",
       "5     FEBRE    20   0.000068\n",
       "6     TOSSE    20   0.000068\n",
       "7  GARGANTA    20   0.000068\n",
       "9    OUTROS    20   0.000068"
      ]
     },
     "execution_count": 17,
     "metadata": {},
     "output_type": "execute_result"
    }
   ],
   "source": [
    "rows = []\n",
    "for column in df.columns:\n",
    "    row = {'coluna': column, 'nans': df[column].isnull().sum(),\n",
    "           'frac_nans': df[column].isnull().sum() / df.shape[0]}\n",
    "    rows.append(row)\n",
    "           \n",
    "res = pd.DataFrame(rows)\n",
    "res[res.nans>0].sort_values('nans', ascending=False)"
   ]
  },
  {
   "cell_type": "markdown",
   "metadata": {},
   "source": [
    "#### DISPNEIA"
   ]
  },
  {
   "cell_type": "markdown",
   "metadata": {
    "id": "JrzdBcaiAoC9"
   },
   "source": [
    "A coluna `DISPNEIA` apresenta 1% de valores faltantes, essa informação pode ser importante. Por isso, vamos utilizar a função `fillna` do pandas, que preenche valores faltantes com algum valor. Será atribuído \"FALTANDO\", para esses buracos."
   ]
  },
  {
   "cell_type": "code",
   "execution_count": 18,
   "metadata": {},
   "outputs": [
    {
     "data": {
      "text/plain": [
       "array(['NAO', 'SIM', nan], dtype=object)"
      ]
     },
     "execution_count": 18,
     "metadata": {},
     "output_type": "execute_result"
    }
   ],
   "source": [
    "df[\"DISPNEIA\"].unique()"
   ]
  },
  {
   "cell_type": "code",
   "execution_count": 19,
   "metadata": {
    "id": "BfCyNd4IyoaF"
   },
   "outputs": [],
   "source": [
    "df['DISPNEIA'] = df[\"DISPNEIA\"].fillna(\"FALTANDO\")"
   ]
  },
  {
   "cell_type": "code",
   "execution_count": 20,
   "metadata": {},
   "outputs": [
    {
     "data": {
      "text/plain": [
       "array(['NAO', 'SIM', 'FALTANDO'], dtype=object)"
      ]
     },
     "execution_count": 20,
     "metadata": {},
     "output_type": "execute_result"
    }
   ],
   "source": [
    "df[\"DISPNEIA\"].unique()"
   ]
  },
  {
   "cell_type": "markdown",
   "metadata": {},
   "source": [
    "#### Colunas com menos de 1% faltantes"
   ]
  },
  {
   "cell_type": "markdown",
   "metadata": {},
   "source": [
    "Para as colunas com menos de 1% de valores faltantes, será utilizada outra técnica para preenchimento.\n",
    "Aqui será feito um preenchimento aleatório com SIM ou NAO, respeitando a distribuição dos dados."
   ]
  },
  {
   "cell_type": "code",
   "execution_count": 21,
   "metadata": {},
   "outputs": [],
   "source": [
    "import numpy as np"
   ]
  },
  {
   "cell_type": "code",
   "execution_count": 22,
   "metadata": {},
   "outputs": [],
   "source": [
    "c = res[(res['frac_nans'] < 0.01) & (res['frac_nans'] > 0)]\n",
    "colunas = c['coluna'].values"
   ]
  },
  {
   "cell_type": "code",
   "execution_count": 23,
   "metadata": {},
   "outputs": [],
   "source": [
    "for coluna in colunas:\n",
    "    dist = df[coluna].value_counts(normalize=True)\n",
    "    faltantes = df[coluna].isnull()\n",
    "    df.loc[faltantes,coluna] = np.random.choice(dist.index, size=\n",
    "len(df[faltantes]), p=dist.values)"
   ]
  },
  {
   "cell_type": "markdown",
   "metadata": {
    "id": "9npr6BdW_Sad"
   },
   "source": [
    "### Extensão de Atributos"
   ]
  },
  {
   "cell_type": "markdown",
   "metadata": {},
   "source": [
    "Uma técnica bastante utilizada é a geração de novos atributos baseados em atributos já existentes. Aqui, será criada uma nova coluna com a diferença (em dias) entre a data de confirmação e a data de sintomas."
   ]
  },
  {
   "cell_type": "code",
   "execution_count": 24,
   "metadata": {},
   "outputs": [],
   "source": [
    "df['DIAS_SINTOMAS'] = df[\"DATA_CONFIRMACAO\"] - df[\"DATA_SINTOMAS\"]\n",
    "df['DIAS_SINTOMAS'] = (df['DIAS_SINTOMAS'] / np.timedelta64(1, 'D')).astype(int)"
   ]
  },
  {
   "cell_type": "code",
   "execution_count": 25,
   "metadata": {},
   "outputs": [],
   "source": [
    "# Remoção das datas pois será usado apenas o novo atributo gerado\n",
    "df = df.drop(['DATA_CONFIRMACAO', 'DATA_SINTOMAS'], axis=1)"
   ]
  },
  {
   "cell_type": "code",
   "execution_count": 26,
   "metadata": {},
   "outputs": [
    {
     "data": {
      "text/html": [
       "<div>\n",
       "<style scoped>\n",
       "    .dataframe tbody tr th:only-of-type {\n",
       "        vertical-align: middle;\n",
       "    }\n",
       "\n",
       "    .dataframe tbody tr th {\n",
       "        vertical-align: top;\n",
       "    }\n",
       "\n",
       "    .dataframe thead th {\n",
       "        text-align: right;\n",
       "    }\n",
       "</style>\n",
       "<table border=\"1\" class=\"dataframe\">\n",
       "  <thead>\n",
       "    <tr style=\"text-align: right;\">\n",
       "      <th></th>\n",
       "      <th>SEXO</th>\n",
       "      <th>FAIXAETARIA</th>\n",
       "      <th>HOSPITALIZADO</th>\n",
       "      <th>FEBRE</th>\n",
       "      <th>TOSSE</th>\n",
       "      <th>GARGANTA</th>\n",
       "      <th>DISPNEIA</th>\n",
       "      <th>OUTROS</th>\n",
       "      <th>GESTANTE</th>\n",
       "      <th>RACA_COR</th>\n",
       "      <th>PES_PRIV_LIBERDADE</th>\n",
       "      <th>DIAS_SINTOMAS</th>\n",
       "    </tr>\n",
       "  </thead>\n",
       "  <tbody>\n",
       "    <tr>\n",
       "      <th>0</th>\n",
       "      <td>Masculino</td>\n",
       "      <td>50 a 59</td>\n",
       "      <td>NAO</td>\n",
       "      <td>NAO</td>\n",
       "      <td>SIM</td>\n",
       "      <td>NAO</td>\n",
       "      <td>NAO</td>\n",
       "      <td>NAO</td>\n",
       "      <td>NAO</td>\n",
       "      <td>BRANCA</td>\n",
       "      <td>NAO</td>\n",
       "      <td>3</td>\n",
       "    </tr>\n",
       "    <tr>\n",
       "      <th>1</th>\n",
       "      <td>Feminino</td>\n",
       "      <td>50 a 59</td>\n",
       "      <td>NAO</td>\n",
       "      <td>NAO</td>\n",
       "      <td>NAO</td>\n",
       "      <td>NAO</td>\n",
       "      <td>NAO</td>\n",
       "      <td>NAO</td>\n",
       "      <td>NAO</td>\n",
       "      <td>BRANCA</td>\n",
       "      <td>NAO</td>\n",
       "      <td>14</td>\n",
       "    </tr>\n",
       "    <tr>\n",
       "      <th>2</th>\n",
       "      <td>Masculino</td>\n",
       "      <td>20 a 29</td>\n",
       "      <td>NAO</td>\n",
       "      <td>NAO</td>\n",
       "      <td>SIM</td>\n",
       "      <td>NAO</td>\n",
       "      <td>NAO</td>\n",
       "      <td>NAO</td>\n",
       "      <td>NAO</td>\n",
       "      <td>BRANCA</td>\n",
       "      <td>NAO</td>\n",
       "      <td>3</td>\n",
       "    </tr>\n",
       "    <tr>\n",
       "      <th>4</th>\n",
       "      <td>Masculino</td>\n",
       "      <td>50 a 59</td>\n",
       "      <td>NAO</td>\n",
       "      <td>NAO</td>\n",
       "      <td>NAO</td>\n",
       "      <td>NAO</td>\n",
       "      <td>NAO</td>\n",
       "      <td>NAO</td>\n",
       "      <td>NAO</td>\n",
       "      <td>BRANCA</td>\n",
       "      <td>NAO</td>\n",
       "      <td>0</td>\n",
       "    </tr>\n",
       "    <tr>\n",
       "      <th>5</th>\n",
       "      <td>Feminino</td>\n",
       "      <td>15 a 19</td>\n",
       "      <td>NAO</td>\n",
       "      <td>NAO</td>\n",
       "      <td>NAO</td>\n",
       "      <td>NAO</td>\n",
       "      <td>NAO</td>\n",
       "      <td>NAO</td>\n",
       "      <td>NAO</td>\n",
       "      <td>BRANCA</td>\n",
       "      <td>NAO</td>\n",
       "      <td>0</td>\n",
       "    </tr>\n",
       "  </tbody>\n",
       "</table>\n",
       "</div>"
      ],
      "text/plain": [
       "        SEXO FAIXAETARIA HOSPITALIZADO FEBRE TOSSE GARGANTA DISPNEIA OUTROS  \\\n",
       "0  Masculino     50 a 59           NAO   NAO   SIM      NAO      NAO    NAO   \n",
       "1   Feminino     50 a 59           NAO   NAO   NAO      NAO      NAO    NAO   \n",
       "2  Masculino     20 a 29           NAO   NAO   SIM      NAO      NAO    NAO   \n",
       "4  Masculino     50 a 59           NAO   NAO   NAO      NAO      NAO    NAO   \n",
       "5   Feminino     15 a 19           NAO   NAO   NAO      NAO      NAO    NAO   \n",
       "\n",
       "  GESTANTE RACA_COR PES_PRIV_LIBERDADE  DIAS_SINTOMAS  \n",
       "0      NAO   BRANCA                NAO              3  \n",
       "1      NAO   BRANCA                NAO             14  \n",
       "2      NAO   BRANCA                NAO              3  \n",
       "4      NAO   BRANCA                NAO              0  \n",
       "5      NAO   BRANCA                NAO              0  "
      ]
     },
     "execution_count": 26,
     "metadata": {},
     "output_type": "execute_result"
    }
   ],
   "source": [
    "df.head()"
   ]
  },
  {
   "cell_type": "markdown",
   "metadata": {},
   "source": [
    "### Formatação"
   ]
  },
  {
   "cell_type": "markdown",
   "metadata": {},
   "source": [
    "Para que um modelo de Aprendizado de Máquina possa ler os dados, eles precisam de algumas adaptações. Aqui será realizada uma transformação de categorias para dados numéricos."
   ]
  },
  {
   "cell_type": "markdown",
   "metadata": {},
   "source": [
    "#### Binarização"
   ]
  },
  {
   "cell_type": "markdown",
   "metadata": {},
   "source": [
    "O atributo `SEXO` não possui ordinalidade, mas como são apenas duas classes no conjunto de dados, serão apenas binarizadas."
   ]
  },
  {
   "cell_type": "code",
   "execution_count": 27,
   "metadata": {},
   "outputs": [
    {
     "data": {
      "text/plain": [
       "array(['Masculino', 'Feminino'], dtype=object)"
      ]
     },
     "execution_count": 27,
     "metadata": {},
     "output_type": "execute_result"
    }
   ],
   "source": [
    "df['SEXO'].unique()"
   ]
  },
  {
   "cell_type": "code",
   "execution_count": 28,
   "metadata": {},
   "outputs": [],
   "source": [
    "df['SEXO'] = df['SEXO'].replace('Feminino', 1)\n",
    "df['SEXO'] = df['SEXO'].replace('Masculino', 0)"
   ]
  },
  {
   "cell_type": "markdown",
   "metadata": {},
   "source": [
    "Todas as colunas que possuem apenas `SIM` ou `NAO` também podem ser facilmente binarizadas"
   ]
  },
  {
   "cell_type": "code",
   "execution_count": 29,
   "metadata": {},
   "outputs": [],
   "source": [
    "binarizar_col = ['HOSPITALIZADO', 'FEBRE', 'TOSSE', 'GARGANTA',\n",
    "                 'OUTROS', 'GESTANTE', 'PES_PRIV_LIBERDADE']\n",
    "\n",
    "for col in binarizar_col:  \n",
    "    df[col] = df[col].replace('SIM', 1)\n",
    "    df[col] = df[col].replace('NAO', 0)"
   ]
  },
  {
   "cell_type": "markdown",
   "metadata": {},
   "source": [
    "#### Mapeamento"
   ]
  },
  {
   "cell_type": "markdown",
   "metadata": {},
   "source": [
    "Já o atributo de faixa etária possui várias opções de preenchimento, contudo é possível tratar com ordinalidade. Pelo que se tem conhecimento até agora, as pessoas mais velhas tem mais risco de agravamento da doença. Portanto, podemos utilizar um mapeamento das faixas etárias de forma ordenada."
   ]
  },
  {
   "cell_type": "code",
   "execution_count": 30,
   "metadata": {},
   "outputs": [],
   "source": [
    "map_faixa = {\n",
    "    '<1'        : 0,\n",
    "    '01 a 04'   : 1,\n",
    "    '05 a 09'   : 2,\n",
    "    '10 a 14'   : 3,\n",
    "    '15 a 19'   : 4,\n",
    "    '20 a 29'   : 5,\n",
    "    '30 a 39'   : 6,\n",
    "    '40 a 49'   : 7,\n",
    "    '50 a 59'   : 8,\n",
    "    '60 a 69'   : 9,\n",
    "    '70 a 79'   : 10,\n",
    "    '80 e mais' : 11    \n",
    "}"
   ]
  },
  {
   "cell_type": "code",
   "execution_count": 31,
   "metadata": {},
   "outputs": [],
   "source": [
    "df['FAIXAETARIA'] = df['FAIXAETARIA'].map(lambda x: map_faixa[x])"
   ]
  },
  {
   "cell_type": "markdown",
   "metadata": {},
   "source": [
    "#### One hot enconding"
   ]
  },
  {
   "cell_type": "markdown",
   "metadata": {},
   "source": [
    "Para os outros atributos que possuem mais opções de rótulos possíveis, uma abordagem comum é utilizar _one hot enconding_ , tranformando cada opção em uma coluna binária. Para isso, será usada a função LabelBinarizer, do scikit-learn."
   ]
  },
  {
   "cell_type": "code",
   "execution_count": 32,
   "metadata": {},
   "outputs": [],
   "source": [
    "from sklearn.preprocessing import LabelBinarizer"
   ]
  },
  {
   "cell_type": "code",
   "execution_count": 33,
   "metadata": {},
   "outputs": [
    {
     "data": {
      "text/plain": [
       "array(['BRANCA', 'INDIGENA', 'AMARELA', 'NAO INFORMADO', 'PARDA', 'PRETA'],\n",
       "      dtype=object)"
      ]
     },
     "execution_count": 33,
     "metadata": {},
     "output_type": "execute_result"
    }
   ],
   "source": [
    "df['RACA_COR'].unique()"
   ]
  },
  {
   "cell_type": "code",
   "execution_count": 34,
   "metadata": {},
   "outputs": [],
   "source": [
    "df = df.reset_index()"
   ]
  },
  {
   "cell_type": "markdown",
   "metadata": {},
   "source": [
    "O atributo `RACA_COR` possui alguns tipos, cada um deles será transformado em uma nova coluna binária, exceto a opção 'NAO INFORMADO', pois essa será indicada por todas colunas com valor zero."
   ]
  },
  {
   "cell_type": "code",
   "execution_count": 35,
   "metadata": {},
   "outputs": [
    {
     "data": {
      "text/html": [
       "<div>\n",
       "<style scoped>\n",
       "    .dataframe tbody tr th:only-of-type {\n",
       "        vertical-align: middle;\n",
       "    }\n",
       "\n",
       "    .dataframe tbody tr th {\n",
       "        vertical-align: top;\n",
       "    }\n",
       "\n",
       "    .dataframe thead th {\n",
       "        text-align: right;\n",
       "    }\n",
       "</style>\n",
       "<table border=\"1\" class=\"dataframe\">\n",
       "  <thead>\n",
       "    <tr style=\"text-align: right;\">\n",
       "      <th></th>\n",
       "      <th>index</th>\n",
       "      <th>SEXO</th>\n",
       "      <th>FAIXAETARIA</th>\n",
       "      <th>HOSPITALIZADO</th>\n",
       "      <th>FEBRE</th>\n",
       "      <th>TOSSE</th>\n",
       "      <th>GARGANTA</th>\n",
       "      <th>DISPNEIA</th>\n",
       "      <th>OUTROS</th>\n",
       "      <th>GESTANTE</th>\n",
       "      <th>PES_PRIV_LIBERDADE</th>\n",
       "      <th>DIAS_SINTOMAS</th>\n",
       "      <th>AMARELA</th>\n",
       "      <th>BRANCA</th>\n",
       "      <th>INDIGENA</th>\n",
       "      <th>PARDA</th>\n",
       "      <th>PRETA</th>\n",
       "    </tr>\n",
       "  </thead>\n",
       "  <tbody>\n",
       "    <tr>\n",
       "      <th>0</th>\n",
       "      <td>0</td>\n",
       "      <td>0</td>\n",
       "      <td>8</td>\n",
       "      <td>0</td>\n",
       "      <td>0</td>\n",
       "      <td>1</td>\n",
       "      <td>0</td>\n",
       "      <td>NAO</td>\n",
       "      <td>0</td>\n",
       "      <td>0</td>\n",
       "      <td>0</td>\n",
       "      <td>3</td>\n",
       "      <td>0</td>\n",
       "      <td>1</td>\n",
       "      <td>0</td>\n",
       "      <td>0</td>\n",
       "      <td>0</td>\n",
       "    </tr>\n",
       "    <tr>\n",
       "      <th>1</th>\n",
       "      <td>1</td>\n",
       "      <td>1</td>\n",
       "      <td>8</td>\n",
       "      <td>0</td>\n",
       "      <td>0</td>\n",
       "      <td>0</td>\n",
       "      <td>0</td>\n",
       "      <td>NAO</td>\n",
       "      <td>0</td>\n",
       "      <td>0</td>\n",
       "      <td>0</td>\n",
       "      <td>14</td>\n",
       "      <td>0</td>\n",
       "      <td>1</td>\n",
       "      <td>0</td>\n",
       "      <td>0</td>\n",
       "      <td>0</td>\n",
       "    </tr>\n",
       "    <tr>\n",
       "      <th>2</th>\n",
       "      <td>2</td>\n",
       "      <td>0</td>\n",
       "      <td>5</td>\n",
       "      <td>0</td>\n",
       "      <td>0</td>\n",
       "      <td>1</td>\n",
       "      <td>0</td>\n",
       "      <td>NAO</td>\n",
       "      <td>0</td>\n",
       "      <td>0</td>\n",
       "      <td>0</td>\n",
       "      <td>3</td>\n",
       "      <td>0</td>\n",
       "      <td>1</td>\n",
       "      <td>0</td>\n",
       "      <td>0</td>\n",
       "      <td>0</td>\n",
       "    </tr>\n",
       "    <tr>\n",
       "      <th>3</th>\n",
       "      <td>4</td>\n",
       "      <td>0</td>\n",
       "      <td>8</td>\n",
       "      <td>0</td>\n",
       "      <td>0</td>\n",
       "      <td>0</td>\n",
       "      <td>0</td>\n",
       "      <td>NAO</td>\n",
       "      <td>0</td>\n",
       "      <td>0</td>\n",
       "      <td>0</td>\n",
       "      <td>0</td>\n",
       "      <td>0</td>\n",
       "      <td>1</td>\n",
       "      <td>0</td>\n",
       "      <td>0</td>\n",
       "      <td>0</td>\n",
       "    </tr>\n",
       "    <tr>\n",
       "      <th>4</th>\n",
       "      <td>5</td>\n",
       "      <td>1</td>\n",
       "      <td>4</td>\n",
       "      <td>0</td>\n",
       "      <td>0</td>\n",
       "      <td>0</td>\n",
       "      <td>0</td>\n",
       "      <td>NAO</td>\n",
       "      <td>0</td>\n",
       "      <td>0</td>\n",
       "      <td>0</td>\n",
       "      <td>0</td>\n",
       "      <td>0</td>\n",
       "      <td>1</td>\n",
       "      <td>0</td>\n",
       "      <td>0</td>\n",
       "      <td>0</td>\n",
       "    </tr>\n",
       "    <tr>\n",
       "      <th>...</th>\n",
       "      <td>...</td>\n",
       "      <td>...</td>\n",
       "      <td>...</td>\n",
       "      <td>...</td>\n",
       "      <td>...</td>\n",
       "      <td>...</td>\n",
       "      <td>...</td>\n",
       "      <td>...</td>\n",
       "      <td>...</td>\n",
       "      <td>...</td>\n",
       "      <td>...</td>\n",
       "      <td>...</td>\n",
       "      <td>...</td>\n",
       "      <td>...</td>\n",
       "      <td>...</td>\n",
       "      <td>...</td>\n",
       "      <td>...</td>\n",
       "    </tr>\n",
       "    <tr>\n",
       "      <th>295640</th>\n",
       "      <td>346793</td>\n",
       "      <td>0</td>\n",
       "      <td>6</td>\n",
       "      <td>0</td>\n",
       "      <td>0</td>\n",
       "      <td>0</td>\n",
       "      <td>0</td>\n",
       "      <td>NAO</td>\n",
       "      <td>1</td>\n",
       "      <td>0</td>\n",
       "      <td>0</td>\n",
       "      <td>0</td>\n",
       "      <td>0</td>\n",
       "      <td>0</td>\n",
       "      <td>0</td>\n",
       "      <td>0</td>\n",
       "      <td>0</td>\n",
       "    </tr>\n",
       "    <tr>\n",
       "      <th>295641</th>\n",
       "      <td>346794</td>\n",
       "      <td>1</td>\n",
       "      <td>11</td>\n",
       "      <td>0</td>\n",
       "      <td>0</td>\n",
       "      <td>1</td>\n",
       "      <td>1</td>\n",
       "      <td>SIM</td>\n",
       "      <td>0</td>\n",
       "      <td>0</td>\n",
       "      <td>0</td>\n",
       "      <td>7</td>\n",
       "      <td>0</td>\n",
       "      <td>0</td>\n",
       "      <td>0</td>\n",
       "      <td>0</td>\n",
       "      <td>0</td>\n",
       "    </tr>\n",
       "    <tr>\n",
       "      <th>295642</th>\n",
       "      <td>346795</td>\n",
       "      <td>1</td>\n",
       "      <td>7</td>\n",
       "      <td>1</td>\n",
       "      <td>1</td>\n",
       "      <td>1</td>\n",
       "      <td>0</td>\n",
       "      <td>SIM</td>\n",
       "      <td>0</td>\n",
       "      <td>0</td>\n",
       "      <td>0</td>\n",
       "      <td>6</td>\n",
       "      <td>0</td>\n",
       "      <td>1</td>\n",
       "      <td>0</td>\n",
       "      <td>0</td>\n",
       "      <td>0</td>\n",
       "    </tr>\n",
       "    <tr>\n",
       "      <th>295643</th>\n",
       "      <td>346799</td>\n",
       "      <td>1</td>\n",
       "      <td>8</td>\n",
       "      <td>0</td>\n",
       "      <td>0</td>\n",
       "      <td>0</td>\n",
       "      <td>0</td>\n",
       "      <td>SIM</td>\n",
       "      <td>0</td>\n",
       "      <td>0</td>\n",
       "      <td>0</td>\n",
       "      <td>4</td>\n",
       "      <td>0</td>\n",
       "      <td>1</td>\n",
       "      <td>0</td>\n",
       "      <td>0</td>\n",
       "      <td>0</td>\n",
       "    </tr>\n",
       "    <tr>\n",
       "      <th>295644</th>\n",
       "      <td>346800</td>\n",
       "      <td>0</td>\n",
       "      <td>5</td>\n",
       "      <td>0</td>\n",
       "      <td>1</td>\n",
       "      <td>1</td>\n",
       "      <td>1</td>\n",
       "      <td>SIM</td>\n",
       "      <td>0</td>\n",
       "      <td>0</td>\n",
       "      <td>0</td>\n",
       "      <td>16</td>\n",
       "      <td>0</td>\n",
       "      <td>1</td>\n",
       "      <td>0</td>\n",
       "      <td>0</td>\n",
       "      <td>0</td>\n",
       "    </tr>\n",
       "  </tbody>\n",
       "</table>\n",
       "<p>295645 rows × 17 columns</p>\n",
       "</div>"
      ],
      "text/plain": [
       "         index  SEXO  FAIXAETARIA  HOSPITALIZADO  FEBRE  TOSSE  GARGANTA  \\\n",
       "0            0     0            8              0      0      1         0   \n",
       "1            1     1            8              0      0      0         0   \n",
       "2            2     0            5              0      0      1         0   \n",
       "3            4     0            8              0      0      0         0   \n",
       "4            5     1            4              0      0      0         0   \n",
       "...        ...   ...          ...            ...    ...    ...       ...   \n",
       "295640  346793     0            6              0      0      0         0   \n",
       "295641  346794     1           11              0      0      1         1   \n",
       "295642  346795     1            7              1      1      1         0   \n",
       "295643  346799     1            8              0      0      0         0   \n",
       "295644  346800     0            5              0      1      1         1   \n",
       "\n",
       "       DISPNEIA  OUTROS  GESTANTE  PES_PRIV_LIBERDADE  DIAS_SINTOMAS  AMARELA  \\\n",
       "0           NAO       0         0                   0              3        0   \n",
       "1           NAO       0         0                   0             14        0   \n",
       "2           NAO       0         0                   0              3        0   \n",
       "3           NAO       0         0                   0              0        0   \n",
       "4           NAO       0         0                   0              0        0   \n",
       "...         ...     ...       ...                 ...            ...      ...   \n",
       "295640      NAO       1         0                   0              0        0   \n",
       "295641      SIM       0         0                   0              7        0   \n",
       "295642      SIM       0         0                   0              6        0   \n",
       "295643      SIM       0         0                   0              4        0   \n",
       "295644      SIM       0         0                   0             16        0   \n",
       "\n",
       "        BRANCA  INDIGENA  PARDA  PRETA  \n",
       "0            1         0      0      0  \n",
       "1            1         0      0      0  \n",
       "2            1         0      0      0  \n",
       "3            1         0      0      0  \n",
       "4            1         0      0      0  \n",
       "...        ...       ...    ...    ...  \n",
       "295640       0         0      0      0  \n",
       "295641       0         0      0      0  \n",
       "295642       1         0      0      0  \n",
       "295643       1         0      0      0  \n",
       "295644       1         0      0      0  \n",
       "\n",
       "[295645 rows x 17 columns]"
      ]
     },
     "execution_count": 35,
     "metadata": {},
     "output_type": "execute_result"
    }
   ],
   "source": [
    "# cod é o codificador genérico \n",
    "cod = LabelBinarizer()\n",
    "cod.fit(df['RACA_COR'])\n",
    "\n",
    "# Com o codificador \"treinado\", convertemos os dados na coluna desejada\n",
    "atributo_transformado = cod.transform(df['RACA_COR'])\n",
    "\n",
    "# Agora reconvertemos para um dataframe em pandas \n",
    "# Mudamos o nome das colunas para refletir os valores originais\n",
    "onehot = pd.DataFrame(atributo_transformado)\n",
    "onehot.columns = cod.classes_\n",
    "\n",
    "# Juntamos de volta com os dados originais e removemos a coluna categórica e a coluna de 'não informado'\n",
    "df = pd.concat([df, onehot], axis=1).drop(['RACA_COR', 'NAO INFORMADO'], axis=1)\n",
    "df"
   ]
  },
  {
   "cell_type": "code",
   "execution_count": 36,
   "metadata": {},
   "outputs": [
    {
     "data": {
      "text/plain": [
       "array(['NAO', 'SIM', 'FALTANDO'], dtype=object)"
      ]
     },
     "execution_count": 36,
     "metadata": {},
     "output_type": "execute_result"
    }
   ],
   "source": [
    "df['DISPNEIA'].unique()"
   ]
  },
  {
   "cell_type": "code",
   "execution_count": 37,
   "metadata": {},
   "outputs": [
    {
     "data": {
      "text/html": [
       "<div>\n",
       "<style scoped>\n",
       "    .dataframe tbody tr th:only-of-type {\n",
       "        vertical-align: middle;\n",
       "    }\n",
       "\n",
       "    .dataframe tbody tr th {\n",
       "        vertical-align: top;\n",
       "    }\n",
       "\n",
       "    .dataframe thead th {\n",
       "        text-align: right;\n",
       "    }\n",
       "</style>\n",
       "<table border=\"1\" class=\"dataframe\">\n",
       "  <thead>\n",
       "    <tr style=\"text-align: right;\">\n",
       "      <th></th>\n",
       "      <th>index</th>\n",
       "      <th>SEXO</th>\n",
       "      <th>FAIXAETARIA</th>\n",
       "      <th>HOSPITALIZADO</th>\n",
       "      <th>FEBRE</th>\n",
       "      <th>TOSSE</th>\n",
       "      <th>GARGANTA</th>\n",
       "      <th>OUTROS</th>\n",
       "      <th>GESTANTE</th>\n",
       "      <th>PES_PRIV_LIBERDADE</th>\n",
       "      <th>DIAS_SINTOMAS</th>\n",
       "      <th>AMARELA</th>\n",
       "      <th>BRANCA</th>\n",
       "      <th>INDIGENA</th>\n",
       "      <th>PARDA</th>\n",
       "      <th>PRETA</th>\n",
       "      <th>NAO</th>\n",
       "      <th>SIM</th>\n",
       "    </tr>\n",
       "  </thead>\n",
       "  <tbody>\n",
       "    <tr>\n",
       "      <th>0</th>\n",
       "      <td>0</td>\n",
       "      <td>0</td>\n",
       "      <td>8</td>\n",
       "      <td>0</td>\n",
       "      <td>0</td>\n",
       "      <td>1</td>\n",
       "      <td>0</td>\n",
       "      <td>0</td>\n",
       "      <td>0</td>\n",
       "      <td>0</td>\n",
       "      <td>3</td>\n",
       "      <td>0</td>\n",
       "      <td>1</td>\n",
       "      <td>0</td>\n",
       "      <td>0</td>\n",
       "      <td>0</td>\n",
       "      <td>1</td>\n",
       "      <td>0</td>\n",
       "    </tr>\n",
       "    <tr>\n",
       "      <th>1</th>\n",
       "      <td>1</td>\n",
       "      <td>1</td>\n",
       "      <td>8</td>\n",
       "      <td>0</td>\n",
       "      <td>0</td>\n",
       "      <td>0</td>\n",
       "      <td>0</td>\n",
       "      <td>0</td>\n",
       "      <td>0</td>\n",
       "      <td>0</td>\n",
       "      <td>14</td>\n",
       "      <td>0</td>\n",
       "      <td>1</td>\n",
       "      <td>0</td>\n",
       "      <td>0</td>\n",
       "      <td>0</td>\n",
       "      <td>1</td>\n",
       "      <td>0</td>\n",
       "    </tr>\n",
       "    <tr>\n",
       "      <th>2</th>\n",
       "      <td>2</td>\n",
       "      <td>0</td>\n",
       "      <td>5</td>\n",
       "      <td>0</td>\n",
       "      <td>0</td>\n",
       "      <td>1</td>\n",
       "      <td>0</td>\n",
       "      <td>0</td>\n",
       "      <td>0</td>\n",
       "      <td>0</td>\n",
       "      <td>3</td>\n",
       "      <td>0</td>\n",
       "      <td>1</td>\n",
       "      <td>0</td>\n",
       "      <td>0</td>\n",
       "      <td>0</td>\n",
       "      <td>1</td>\n",
       "      <td>0</td>\n",
       "    </tr>\n",
       "    <tr>\n",
       "      <th>3</th>\n",
       "      <td>4</td>\n",
       "      <td>0</td>\n",
       "      <td>8</td>\n",
       "      <td>0</td>\n",
       "      <td>0</td>\n",
       "      <td>0</td>\n",
       "      <td>0</td>\n",
       "      <td>0</td>\n",
       "      <td>0</td>\n",
       "      <td>0</td>\n",
       "      <td>0</td>\n",
       "      <td>0</td>\n",
       "      <td>1</td>\n",
       "      <td>0</td>\n",
       "      <td>0</td>\n",
       "      <td>0</td>\n",
       "      <td>1</td>\n",
       "      <td>0</td>\n",
       "    </tr>\n",
       "    <tr>\n",
       "      <th>4</th>\n",
       "      <td>5</td>\n",
       "      <td>1</td>\n",
       "      <td>4</td>\n",
       "      <td>0</td>\n",
       "      <td>0</td>\n",
       "      <td>0</td>\n",
       "      <td>0</td>\n",
       "      <td>0</td>\n",
       "      <td>0</td>\n",
       "      <td>0</td>\n",
       "      <td>0</td>\n",
       "      <td>0</td>\n",
       "      <td>1</td>\n",
       "      <td>0</td>\n",
       "      <td>0</td>\n",
       "      <td>0</td>\n",
       "      <td>1</td>\n",
       "      <td>0</td>\n",
       "    </tr>\n",
       "    <tr>\n",
       "      <th>...</th>\n",
       "      <td>...</td>\n",
       "      <td>...</td>\n",
       "      <td>...</td>\n",
       "      <td>...</td>\n",
       "      <td>...</td>\n",
       "      <td>...</td>\n",
       "      <td>...</td>\n",
       "      <td>...</td>\n",
       "      <td>...</td>\n",
       "      <td>...</td>\n",
       "      <td>...</td>\n",
       "      <td>...</td>\n",
       "      <td>...</td>\n",
       "      <td>...</td>\n",
       "      <td>...</td>\n",
       "      <td>...</td>\n",
       "      <td>...</td>\n",
       "      <td>...</td>\n",
       "    </tr>\n",
       "    <tr>\n",
       "      <th>295640</th>\n",
       "      <td>346793</td>\n",
       "      <td>0</td>\n",
       "      <td>6</td>\n",
       "      <td>0</td>\n",
       "      <td>0</td>\n",
       "      <td>0</td>\n",
       "      <td>0</td>\n",
       "      <td>1</td>\n",
       "      <td>0</td>\n",
       "      <td>0</td>\n",
       "      <td>0</td>\n",
       "      <td>0</td>\n",
       "      <td>0</td>\n",
       "      <td>0</td>\n",
       "      <td>0</td>\n",
       "      <td>0</td>\n",
       "      <td>1</td>\n",
       "      <td>0</td>\n",
       "    </tr>\n",
       "    <tr>\n",
       "      <th>295641</th>\n",
       "      <td>346794</td>\n",
       "      <td>1</td>\n",
       "      <td>11</td>\n",
       "      <td>0</td>\n",
       "      <td>0</td>\n",
       "      <td>1</td>\n",
       "      <td>1</td>\n",
       "      <td>0</td>\n",
       "      <td>0</td>\n",
       "      <td>0</td>\n",
       "      <td>7</td>\n",
       "      <td>0</td>\n",
       "      <td>0</td>\n",
       "      <td>0</td>\n",
       "      <td>0</td>\n",
       "      <td>0</td>\n",
       "      <td>0</td>\n",
       "      <td>1</td>\n",
       "    </tr>\n",
       "    <tr>\n",
       "      <th>295642</th>\n",
       "      <td>346795</td>\n",
       "      <td>1</td>\n",
       "      <td>7</td>\n",
       "      <td>1</td>\n",
       "      <td>1</td>\n",
       "      <td>1</td>\n",
       "      <td>0</td>\n",
       "      <td>0</td>\n",
       "      <td>0</td>\n",
       "      <td>0</td>\n",
       "      <td>6</td>\n",
       "      <td>0</td>\n",
       "      <td>1</td>\n",
       "      <td>0</td>\n",
       "      <td>0</td>\n",
       "      <td>0</td>\n",
       "      <td>0</td>\n",
       "      <td>1</td>\n",
       "    </tr>\n",
       "    <tr>\n",
       "      <th>295643</th>\n",
       "      <td>346799</td>\n",
       "      <td>1</td>\n",
       "      <td>8</td>\n",
       "      <td>0</td>\n",
       "      <td>0</td>\n",
       "      <td>0</td>\n",
       "      <td>0</td>\n",
       "      <td>0</td>\n",
       "      <td>0</td>\n",
       "      <td>0</td>\n",
       "      <td>4</td>\n",
       "      <td>0</td>\n",
       "      <td>1</td>\n",
       "      <td>0</td>\n",
       "      <td>0</td>\n",
       "      <td>0</td>\n",
       "      <td>0</td>\n",
       "      <td>1</td>\n",
       "    </tr>\n",
       "    <tr>\n",
       "      <th>295644</th>\n",
       "      <td>346800</td>\n",
       "      <td>0</td>\n",
       "      <td>5</td>\n",
       "      <td>0</td>\n",
       "      <td>1</td>\n",
       "      <td>1</td>\n",
       "      <td>1</td>\n",
       "      <td>0</td>\n",
       "      <td>0</td>\n",
       "      <td>0</td>\n",
       "      <td>16</td>\n",
       "      <td>0</td>\n",
       "      <td>1</td>\n",
       "      <td>0</td>\n",
       "      <td>0</td>\n",
       "      <td>0</td>\n",
       "      <td>0</td>\n",
       "      <td>1</td>\n",
       "    </tr>\n",
       "  </tbody>\n",
       "</table>\n",
       "<p>295645 rows × 18 columns</p>\n",
       "</div>"
      ],
      "text/plain": [
       "         index  SEXO  FAIXAETARIA  HOSPITALIZADO  FEBRE  TOSSE  GARGANTA  \\\n",
       "0            0     0            8              0      0      1         0   \n",
       "1            1     1            8              0      0      0         0   \n",
       "2            2     0            5              0      0      1         0   \n",
       "3            4     0            8              0      0      0         0   \n",
       "4            5     1            4              0      0      0         0   \n",
       "...        ...   ...          ...            ...    ...    ...       ...   \n",
       "295640  346793     0            6              0      0      0         0   \n",
       "295641  346794     1           11              0      0      1         1   \n",
       "295642  346795     1            7              1      1      1         0   \n",
       "295643  346799     1            8              0      0      0         0   \n",
       "295644  346800     0            5              0      1      1         1   \n",
       "\n",
       "        OUTROS  GESTANTE  PES_PRIV_LIBERDADE  DIAS_SINTOMAS  AMARELA  BRANCA  \\\n",
       "0            0         0                   0              3        0       1   \n",
       "1            0         0                   0             14        0       1   \n",
       "2            0         0                   0              3        0       1   \n",
       "3            0         0                   0              0        0       1   \n",
       "4            0         0                   0              0        0       1   \n",
       "...        ...       ...                 ...            ...      ...     ...   \n",
       "295640       1         0                   0              0        0       0   \n",
       "295641       0         0                   0              7        0       0   \n",
       "295642       0         0                   0              6        0       1   \n",
       "295643       0         0                   0              4        0       1   \n",
       "295644       0         0                   0             16        0       1   \n",
       "\n",
       "        INDIGENA  PARDA  PRETA  NAO  SIM  \n",
       "0              0      0      0    1    0  \n",
       "1              0      0      0    1    0  \n",
       "2              0      0      0    1    0  \n",
       "3              0      0      0    1    0  \n",
       "4              0      0      0    1    0  \n",
       "...          ...    ...    ...  ...  ...  \n",
       "295640         0      0      0    1    0  \n",
       "295641         0      0      0    0    1  \n",
       "295642         0      0      0    0    1  \n",
       "295643         0      0      0    0    1  \n",
       "295644         0      0      0    0    1  \n",
       "\n",
       "[295645 rows x 18 columns]"
      ]
     },
     "execution_count": 37,
     "metadata": {},
     "output_type": "execute_result"
    }
   ],
   "source": [
    "# cod é o codificador genérico\n",
    "cod = LabelBinarizer()\n",
    "cod.fit(df['DISPNEIA'])\n",
    "\n",
    "# Com o codificador \"treinado\", convertemos os dados na coluna desejada\n",
    "atributo_transformado = cod.transform(df['DISPNEIA'])\n",
    "\n",
    "# Agora reconvertemos para um dataframe em pandas \n",
    "# Mudamos o nome das colunas para refletir os valores originais\n",
    "onehot = pd.DataFrame(atributo_transformado)\n",
    "onehot.columns = cod.classes_\n",
    "\n",
    "# Juntamos de volta com os dados originais e removemos a coluna categórica e a coluna de 'faltando'\n",
    "df = pd.concat([df, onehot], axis=1).drop(['DISPNEIA', 'FALTANDO'], axis=1)\n",
    "df"
   ]
  },
  {
   "cell_type": "markdown",
   "metadata": {},
   "source": [
    "### Reordenação das colunas"
   ]
  },
  {
   "cell_type": "code",
   "execution_count": 38,
   "metadata": {},
   "outputs": [],
   "source": [
    "# Reposicionamento da coluna HOSPITALIZADO, que será nosso valor alvo\n",
    "valores_alvo = df['HOSPITALIZADO'].values\n",
    "df = df.drop('HOSPITALIZADO', axis=1)\n",
    "df['HOSPITALIZADO'] = valores_alvo"
   ]
  },
  {
   "cell_type": "markdown",
   "metadata": {},
   "source": [
    "## Balanceamento do _dataset_"
   ]
  },
  {
   "cell_type": "markdown",
   "metadata": {},
   "source": [
    "Para o balanceamento do conjunto de dados, será aplicada uma técnica chamada de _downsample_. Essa técnica consiste em remover exemplos aleatórios da classe majoritária de forma que a quantidade seja igual ou próxima da classe menos evidente."
   ]
  },
  {
   "cell_type": "code",
   "execution_count": 39,
   "metadata": {},
   "outputs": [
    {
     "data": {
      "text/plain": [
       "0    272821\n",
       "1     22824\n",
       "Name: HOSPITALIZADO, dtype: int64"
      ]
     },
     "execution_count": 39,
     "metadata": {},
     "output_type": "execute_result"
    }
   ],
   "source": [
    "df['HOSPITALIZADO'].value_counts()"
   ]
  },
  {
   "cell_type": "code",
   "execution_count": 40,
   "metadata": {},
   "outputs": [],
   "source": [
    "df = df.drop(df[df['HOSPITALIZADO'] == 0].sample(272821-22824).index)"
   ]
  },
  {
   "cell_type": "code",
   "execution_count": 41,
   "metadata": {},
   "outputs": [
    {
     "data": {
      "text/plain": [
       "1    22824\n",
       "0    22824\n",
       "Name: HOSPITALIZADO, dtype: int64"
      ]
     },
     "execution_count": 41,
     "metadata": {},
     "output_type": "execute_result"
    }
   ],
   "source": [
    "df['HOSPITALIZADO'].value_counts()"
   ]
  },
  {
   "cell_type": "markdown",
   "metadata": {},
   "source": [
    "## Definição Treino/Validação e Teste"
   ]
  },
  {
   "cell_type": "markdown",
   "metadata": {},
   "source": [
    "Usualmente a matriz que representa os atributos é chamada de `X` e o vetor de valores alvo (o atributo da classificação) é representado por `y`."
   ]
  },
  {
   "cell_type": "code",
   "execution_count": 42,
   "metadata": {},
   "outputs": [],
   "source": [
    "X = df.drop('HOSPITALIZADO', axis=1)\n",
    "y = df['HOSPITALIZADO']"
   ]
  },
  {
   "cell_type": "markdown",
   "metadata": {},
   "source": [
    "Utilizando a função `train_test_split`do scikit learn, faremos a divisão entre conjunto de _dev_ (treino e validação) e conjunto de teste"
   ]
  },
  {
   "cell_type": "code",
   "execution_count": 43,
   "metadata": {},
   "outputs": [],
   "source": [
    "from sklearn.model_selection import train_test_split"
   ]
  },
  {
   "cell_type": "code",
   "execution_count": 44,
   "metadata": {},
   "outputs": [
    {
     "data": {
      "text/plain": [
       "1    22824\n",
       "0    22824\n",
       "Name: HOSPITALIZADO, dtype: int64"
      ]
     },
     "execution_count": 44,
     "metadata": {},
     "output_type": "execute_result"
    }
   ],
   "source": [
    "df['HOSPITALIZADO'].value_counts()"
   ]
  },
  {
   "cell_type": "markdown",
   "metadata": {},
   "source": [
    "Divisão do conjunto de __desenvolvimento__ (respectivo ao treino e validação), que será utilizado para busca de parâmetros; e o conjunto de __teste__, que será utilizado para avaliar o desempenho do modelo selecionado."
   ]
  },
  {
   "cell_type": "code",
   "execution_count": 45,
   "metadata": {},
   "outputs": [],
   "source": [
    "X_train, X_test, y_train, y_test = train_test_split(X, y, test_size=0.2, stratify=y, random_state=666)"
   ]
  },
  {
   "cell_type": "markdown",
   "metadata": {},
   "source": [
    "## Validação Cruzada & Grid Search"
   ]
  },
  {
   "cell_type": "markdown",
   "metadata": {},
   "source": [
    "Com o conjunto de desenvolvimento, podemos realizar a busca pelos melhores hiperparâmetros para o modelo. Para isso, podemos utilizar a função do scikit-learn `GridSearchCV`, que realiza uma busca exaustiva nos parâmetros definidos por um dicionário de parâmetros. Além disso, esse método também aplica a validação cruzada, dessa forma é possível buscar os hiperparâmetros e também realizar o primeiro processo da validação cruzada aninhada.\n",
    "\n",
    "Além disso, serão realizadas buscas de hiper-parâmetros em três diferentes modelos. Assim, o modelo que tiver o melhor desempenho na etapa de desenvolvimento, será selecionado para ser aplicado no teste."
   ]
  },
  {
   "cell_type": "code",
   "execution_count": 46,
   "metadata": {},
   "outputs": [],
   "source": [
    "from sklearn.model_selection import GridSearchCV\n",
    "from sklearn.ensemble import RandomForestClassifier as RFC\n",
    "from sklearn.neural_network import MLPClassifier as MLP\n",
    "from sklearn.neighbors import KNeighborsClassifier as KNN\n",
    "from sklearn.metrics import classification_report"
   ]
  },
  {
   "cell_type": "markdown",
   "metadata": {},
   "source": [
    "### Random Forest"
   ]
  },
  {
   "cell_type": "code",
   "execution_count": 47,
   "metadata": {},
   "outputs": [],
   "source": [
    "# Set the parameters by cross-validation\n",
    "tuned_parameters = [\n",
    "    {'criterion' : ['gini'], 'n_estimators' : [100, 200],\n",
    "     'max_depth' : [None, 100], 'bootstrap' : [True, False]\n",
    "    }\n",
    "]\n",
    "\n",
    "scores = ['accuracy']"
   ]
  },
  {
   "cell_type": "code",
   "execution_count": 48,
   "metadata": {},
   "outputs": [
    {
     "name": "stdout",
     "output_type": "stream",
     "text": [
      "# Tunando hyper-parâmetros para accuracy\n",
      "\n",
      "Melhores parâmetros no conjunto de desenvolvimento:\n",
      "\n",
      "{'bootstrap': True, 'criterion': 'gini', 'max_depth': None, 'n_estimators': 200}\n",
      "\n",
      "Resultados do grid:\n",
      "\n",
      "0.868 (+/-0.010) for {'bootstrap': True, 'criterion': 'gini', 'max_depth': None, 'n_estimators': 100}\n",
      "0.869 (+/-0.008) for {'bootstrap': True, 'criterion': 'gini', 'max_depth': None, 'n_estimators': 200}\n",
      "0.868 (+/-0.010) for {'bootstrap': True, 'criterion': 'gini', 'max_depth': 100, 'n_estimators': 100}\n",
      "0.869 (+/-0.008) for {'bootstrap': True, 'criterion': 'gini', 'max_depth': 100, 'n_estimators': 200}\n",
      "0.859 (+/-0.010) for {'bootstrap': False, 'criterion': 'gini', 'max_depth': None, 'n_estimators': 100}\n",
      "0.859 (+/-0.008) for {'bootstrap': False, 'criterion': 'gini', 'max_depth': None, 'n_estimators': 200}\n",
      "0.858 (+/-0.008) for {'bootstrap': False, 'criterion': 'gini', 'max_depth': 100, 'n_estimators': 100}\n",
      "0.859 (+/-0.009) for {'bootstrap': False, 'criterion': 'gini', 'max_depth': 100, 'n_estimators': 200}\n",
      "\n"
     ]
    }
   ],
   "source": [
    "for score in scores:\n",
    "    print(\"# Tunando hyper-parâmetros para %s\" % score)\n",
    "    print()\n",
    "\n",
    "    clf_rfc = GridSearchCV(\n",
    "        RFC(), tuned_parameters, scoring='%s' % score\n",
    "    )\n",
    "    clf_rfc.fit(X_train, y_train)\n",
    "\n",
    "    print(\"Melhores parâmetros no conjunto de desenvolvimento:\")\n",
    "    print()\n",
    "    print(clf_rfc.best_params_)\n",
    "    print()\n",
    "    print(\"Resultados do grid:\")\n",
    "    print()\n",
    "    means = clf_rfc.cv_results_['mean_test_score']\n",
    "    stds = clf_rfc.cv_results_['std_test_score']\n",
    "    for mean, std, params in zip(means, stds, clf_rfc.cv_results_['params']):\n",
    "        print(\"%0.3f (+/-%0.03f) for %r\"\n",
    "              % (mean, std * 2, params))\n",
    "    print()"
   ]
  },
  {
   "cell_type": "markdown",
   "metadata": {},
   "source": [
    "### MLP"
   ]
  },
  {
   "cell_type": "code",
   "execution_count": 49,
   "metadata": {},
   "outputs": [],
   "source": [
    "# Set the parameters by cross-validation\n",
    "tuned_parameters = [\n",
    "    {'hidden_layer_sizes' : [(100,), (50,50)],\n",
    "     'activation' : ['relu', 'logistic'],\n",
    "     'solver' : ['sgd', 'adam'],\n",
    "    }\n",
    "]\n",
    "\n",
    "scores = ['accuracy']"
   ]
  },
  {
   "cell_type": "code",
   "execution_count": 50,
   "metadata": {
    "scrolled": false
   },
   "outputs": [
    {
     "name": "stdout",
     "output_type": "stream",
     "text": [
      "# Tunando hyper-parâmetros para accuracy\n",
      "\n",
      "Melhores parâmetros no conjunto de desenvolvimento:\n",
      "\n",
      "{'activation': 'relu', 'hidden_layer_sizes': (100,), 'solver': 'adam'}\n",
      "\n",
      "Resultados do grid:\n",
      "\n",
      "0.500 (+/-0.000) for {'activation': 'relu', 'hidden_layer_sizes': (100,), 'solver': 'sgd'}\n",
      "0.572 (+/-0.195) for {'activation': 'relu', 'hidden_layer_sizes': (100,), 'solver': 'adam'}\n",
      "0.500 (+/-0.000) for {'activation': 'relu', 'hidden_layer_sizes': (50, 50), 'solver': 'sgd'}\n",
      "0.560 (+/-0.181) for {'activation': 'relu', 'hidden_layer_sizes': (50, 50), 'solver': 'adam'}\n",
      "0.500 (+/-0.000) for {'activation': 'logistic', 'hidden_layer_sizes': (100,), 'solver': 'sgd'}\n",
      "0.500 (+/-0.000) for {'activation': 'logistic', 'hidden_layer_sizes': (100,), 'solver': 'adam'}\n",
      "0.500 (+/-0.000) for {'activation': 'logistic', 'hidden_layer_sizes': (50, 50), 'solver': 'sgd'}\n",
      "0.500 (+/-0.000) for {'activation': 'logistic', 'hidden_layer_sizes': (50, 50), 'solver': 'adam'}\n",
      "\n"
     ]
    }
   ],
   "source": [
    "for score in scores:\n",
    "    print(\"# Tunando hyper-parâmetros para %s\" % score)\n",
    "    print()\n",
    "\n",
    "    clf_mlp = GridSearchCV(\n",
    "        MLP(), tuned_parameters, scoring='%s' % score\n",
    "    )\n",
    "    clf_mlp.fit(X_train, y_train)\n",
    "\n",
    "    print(\"Melhores parâmetros no conjunto de desenvolvimento:\")\n",
    "    print()\n",
    "    print(clf_mlp.best_params_)\n",
    "    print()\n",
    "    print(\"Resultados do grid:\")\n",
    "    print()\n",
    "    means = clf_mlp.cv_results_['mean_test_score']\n",
    "    stds = clf_mlp.cv_results_['std_test_score']\n",
    "    for mean, std, params in zip(means, stds, clf_mlp.cv_results_['params']):\n",
    "        print(\"%0.3f (+/-%0.03f) for %r\"\n",
    "              % (mean, std * 2, params))\n",
    "    print()"
   ]
  },
  {
   "cell_type": "markdown",
   "metadata": {},
   "source": [
    "### KNN"
   ]
  },
  {
   "cell_type": "code",
   "execution_count": 51,
   "metadata": {},
   "outputs": [],
   "source": [
    "# Set the parameters by cross-validation\n",
    "tuned_parameters = [\n",
    "    {'n_neighbors' : [2,5,10],\n",
    "     'weights' : ['uniform', 'distance'],\n",
    "     'metric' : ['euclidean', 'manhattan']\n",
    "    }\n",
    "]\n",
    "\n",
    "scores = ['accuracy']"
   ]
  },
  {
   "cell_type": "code",
   "execution_count": 52,
   "metadata": {},
   "outputs": [
    {
     "name": "stdout",
     "output_type": "stream",
     "text": [
      "# Tunando hyper-parâmetros para accuracy\n",
      "\n",
      "Melhores parâmetros no conjunto de desenvolvimento:\n",
      "\n",
      "{'metric': 'manhattan', 'n_neighbors': 2, 'weights': 'distance'}\n",
      "\n",
      "Resultados do grid:\n",
      "\n",
      "0.683 (+/-0.014) for {'metric': 'euclidean', 'n_neighbors': 2, 'weights': 'uniform'}\n",
      "0.702 (+/-0.010) for {'metric': 'euclidean', 'n_neighbors': 2, 'weights': 'distance'}\n",
      "0.655 (+/-0.007) for {'metric': 'euclidean', 'n_neighbors': 5, 'weights': 'uniform'}\n",
      "0.695 (+/-0.009) for {'metric': 'euclidean', 'n_neighbors': 5, 'weights': 'distance'}\n",
      "0.639 (+/-0.005) for {'metric': 'euclidean', 'n_neighbors': 10, 'weights': 'uniform'}\n",
      "0.690 (+/-0.009) for {'metric': 'euclidean', 'n_neighbors': 10, 'weights': 'distance'}\n",
      "0.712 (+/-0.013) for {'metric': 'manhattan', 'n_neighbors': 2, 'weights': 'uniform'}\n",
      "0.737 (+/-0.012) for {'metric': 'manhattan', 'n_neighbors': 2, 'weights': 'distance'}\n",
      "0.679 (+/-0.007) for {'metric': 'manhattan', 'n_neighbors': 5, 'weights': 'uniform'}\n",
      "0.721 (+/-0.009) for {'metric': 'manhattan', 'n_neighbors': 5, 'weights': 'distance'}\n",
      "0.656 (+/-0.004) for {'metric': 'manhattan', 'n_neighbors': 10, 'weights': 'uniform'}\n",
      "0.712 (+/-0.009) for {'metric': 'manhattan', 'n_neighbors': 10, 'weights': 'distance'}\n",
      "\n"
     ]
    }
   ],
   "source": [
    "for score in scores:\n",
    "    print(\"# Tunando hyper-parâmetros para %s\" % score)\n",
    "    print()\n",
    "\n",
    "    clf_knn = GridSearchCV(\n",
    "        KNN(), tuned_parameters, scoring='%s' % score\n",
    "    )\n",
    "    clf_knn.fit(X_train, y_train)\n",
    "\n",
    "    print(\"Melhores parâmetros no conjunto de desenvolvimento:\")\n",
    "    print()\n",
    "    print(clf_knn.best_params_)\n",
    "    print()\n",
    "    print(\"Resultados do grid:\")\n",
    "    print()\n",
    "    means = clf_knn.cv_results_['mean_test_score']\n",
    "    stds = clf_knn.cv_results_['std_test_score']\n",
    "    for mean, std, params in zip(means, stds, clf_knn.cv_results_['params']):\n",
    "        print(\"%0.3f (+/-%0.03f) for %r\"\n",
    "              % (mean, std * 2, params))\n",
    "    print()"
   ]
  },
  {
   "cell_type": "markdown",
   "metadata": {},
   "source": [
    "## Aplicação no Conjunto de Teste"
   ]
  },
  {
   "cell_type": "markdown",
   "metadata": {},
   "source": [
    "Após serem encontrados os melhores parâmetros e o melhor modelo na busca, estes podem ser aplicados no conjunto de teste. Como a melhor acurácia encontrada na etapa de desenvolvimento foi a do modelo __Random Forest__ esse será o modelo final aplicado no teste."
   ]
  },
  {
   "cell_type": "code",
   "execution_count": 53,
   "metadata": {},
   "outputs": [
    {
     "name": "stdout",
     "output_type": "stream",
     "text": [
      "Relatório de Classificação detalhado:\n",
      "\n",
      "O modelo é treinado em todo o conjunto de desenvolvimento.\n",
      "O desempenho é computado em todo conjunto de treino.\n",
      "\n",
      "              precision    recall  f1-score   support\n",
      "\n",
      "           0       0.87      0.87      0.87      4565\n",
      "           1       0.87      0.87      0.87      4565\n",
      "\n",
      "    accuracy                           0.87      9130\n",
      "   macro avg       0.87      0.87      0.87      9130\n",
      "weighted avg       0.87      0.87      0.87      9130\n",
      "\n"
     ]
    }
   ],
   "source": [
    "print(\"Relatório de Classificação detalhado:\")\n",
    "print()\n",
    "print(\"O modelo é treinado em todo o conjunto de desenvolvimento.\")\n",
    "print(\"O desempenho é computado em todo conjunto de treino.\")\n",
    "print()\n",
    "y_true, y_pred = y_test, clf_rfc.predict(X_test)\n",
    "print(classification_report(y_true, y_pred))"
   ]
  },
  {
   "cell_type": "markdown",
   "metadata": {},
   "source": [
    "O relatório da classificação mostra uma acurácia de 87%, contudo, é importante lembrar que para o balanceamento muitos dados foram descartados. Isso significa que o modelo, com mais exemplos de treino poderia ser melhor."
   ]
  },
  {
   "cell_type": "code",
   "execution_count": 54,
   "metadata": {},
   "outputs": [],
   "source": [
    "from sklearn.metrics import confusion_matrix\n",
    "import seaborn as sns"
   ]
  },
  {
   "cell_type": "markdown",
   "metadata": {},
   "source": [
    "A matriz de confusão abaixo ilustra como foi a classificação nos dados de teste, sendo a classe `0` não hospitalizado e `1` hospitalizado."
   ]
  },
  {
   "cell_type": "code",
   "execution_count": 55,
   "metadata": {},
   "outputs": [
    {
     "name": "stdout",
     "output_type": "stream",
     "text": [
      "\n"
     ]
    },
    {
     "data": {
      "image/png": "[encoded data removed]",
      "text/plain": [
       "<Figure size 432x288 with 2 Axes>"
      ]
     },
     "metadata": {
      "needs_background": "light"
     },
     "output_type": "display_data"
    }
   ],
   "source": [
    "cf_matrix = confusion_matrix(y_true, y_pred)\n",
    "sns.heatmap(cf_matrix, annot=True, fmt='g')\n",
    "print()"
   ]
  },
  {
   "cell_type": "markdown",
   "metadata": {},
   "source": [
    "## Conclusão"
   ]
  },
  {
   "cell_type": "markdown",
   "metadata": {},
   "source": [
    "O modelo que se saiu melhor nos testes realizados foi o __Random Forest__ o qual apresentou um resultado interessante, considerando os dados fornecidos. Visto que os dados utilizados, potencialmente, não são expressivos o suficiente para o prognóstico de hospitalização, o desempenho do modelo parece ser razoável. Contudo, certamente, não seria um modelo aplicável na prática, dada a seriedade do problema."
   ]
  }
 ],
 "metadata": {
  "colab": {
   "collapsed_sections": [],
   "name": "ML COVID RS.ipynb",
   "provenance": []
  },
  "kernelspec": {
   "display_name": "Python 3",
   "language": "python",
   "name": "python3"
  },
  "language_info": {
   "codemirror_mode": {
    "name": "ipython",
    "version": 3
   },
   "file_extension": ".py",
   "mimetype": "text/x-python",
   "name": "python",
   "nbconvert_exporter": "python",
   "pygments_lexer": "ipython3",
   "version": "3.8.3"
  },
  "toc": {
   "base_numbering": 1,
   "nav_menu": {},
   "number_sections": true,
   "sideBar": true,
   "skip_h1_title": true,
   "title_cell": "Table of Contents",
   "title_sidebar": "Contents",
   "toc_cell": false,
   "toc_position": {
    "height": "calc(100% - 180px)",
    "left": "10px",
    "top": "150px",
    "width": "288px"
   },
   "toc_section_display": true,
   "toc_window_display": true
  }
 },
 "nbformat": 4,
 "nbformat_minor": 1
}
